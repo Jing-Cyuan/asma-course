{
 "cells": [
  {
   "cell_type": "markdown",
   "metadata": {
    "id": "5f09bae3"
   },
   "source": [
    "# ~ enviroment preparation"
   ]
  },
  {
   "cell_type": "code",
   "execution_count": 1,
   "metadata": {
    "id": "736cdf1c",
    "tags": []
   },
   "outputs": [],
   "source": [
    "import numpy as np\n",
    "import pandas as pd\n",
    "import matplotlib.pyplot as plt\n",
    "# sklearn\n",
    "from sklearn.model_selection import train_test_split\n",
    "from sklearn.utils import class_weight\n",
    "from sklearn.preprocessing import Normalizer, StandardScaler, MinMaxScaler, LabelEncoder, OneHotEncoder\n",
    "from sklearn.model_selection import train_test_split, StratifiedKFold, cross_val_score\n",
    "from sklearn.metrics import accuracy_score, f1_score, roc_auc_score, roc_curve, auc, confusion_matrix, classification_report\n",
    "from sklearn.inspection import permutation_importance\n",
    "from itertools import cycle, product\n",
    "import pickle"
   ]
  },
  {
   "cell_type": "markdown",
   "metadata": {
    "id": "p15pTi7e0O2v"
   },
   "source": [
    "# 1 Dataset preparation"
   ]
  },
  {
   "cell_type": "code",
   "execution_count": 2,
   "metadata": {
    "id": "ytH2aR3212rz",
    "tags": []
   },
   "outputs": [
    {
     "data": {
      "text/html": [
       "<div>\n",
       "<style scoped>\n",
       "    .dataframe tbody tr th:only-of-type {\n",
       "        vertical-align: middle;\n",
       "    }\n",
       "\n",
       "    .dataframe tbody tr th {\n",
       "        vertical-align: top;\n",
       "    }\n",
       "\n",
       "    .dataframe thead th {\n",
       "        text-align: right;\n",
       "    }\n",
       "</style>\n",
       "<table border=\"1\" class=\"dataframe\">\n",
       "  <thead>\n",
       "    <tr style=\"text-align: right;\">\n",
       "      <th></th>\n",
       "      <th>Unnamed: 0</th>\n",
       "      <th>ID</th>\n",
       "      <th>name</th>\n",
       "      <th>smiles</th>\n",
       "      <th>output</th>\n",
       "      <th>nAcid</th>\n",
       "      <th>ALogP</th>\n",
       "      <th>ALogp2</th>\n",
       "      <th>AMR</th>\n",
       "      <th>apol</th>\n",
       "      <th>...</th>\n",
       "      <th>P1s</th>\n",
       "      <th>P2s</th>\n",
       "      <th>E1s</th>\n",
       "      <th>E2s</th>\n",
       "      <th>E3s</th>\n",
       "      <th>Ts</th>\n",
       "      <th>As</th>\n",
       "      <th>Vs</th>\n",
       "      <th>Ks</th>\n",
       "      <th>Ds</th>\n",
       "    </tr>\n",
       "  </thead>\n",
       "  <tbody>\n",
       "    <tr>\n",
       "      <th>0</th>\n",
       "      <td>0</td>\n",
       "      <td>1</td>\n",
       "      <td>ABACAVIRSULFATE</td>\n",
       "      <td>Nc1nc(NC2CC2)c3ncn(C4CC(CO)C=C4)c3n1</td>\n",
       "      <td>0</td>\n",
       "      <td>0.0</td>\n",
       "      <td>-1.8653</td>\n",
       "      <td>3.479344</td>\n",
       "      <td>47.8891</td>\n",
       "      <td>44.044274</td>\n",
       "      <td>...</td>\n",
       "      <td>0.862046</td>\n",
       "      <td>0.116831</td>\n",
       "      <td>0.560654</td>\n",
       "      <td>0.379450</td>\n",
       "      <td>0.268039</td>\n",
       "      <td>20.706840</td>\n",
       "      <td>52.049186</td>\n",
       "      <td>91.644726</td>\n",
       "      <td>0.793068</td>\n",
       "      <td>1.208143</td>\n",
       "    </tr>\n",
       "    <tr>\n",
       "      <th>1</th>\n",
       "      <td>1</td>\n",
       "      <td>2</td>\n",
       "      <td>ACARBOSE</td>\n",
       "      <td>CC1OC(OC2C(O)C(O)C(OC3C(O)C(O)C(O)OC3CO)OC2CO)...</td>\n",
       "      <td>0</td>\n",
       "      <td>0.0</td>\n",
       "      <td>-7.2263</td>\n",
       "      <td>52.219412</td>\n",
       "      <td>137.7680</td>\n",
       "      <td>88.208099</td>\n",
       "      <td>...</td>\n",
       "      <td>0.867267</td>\n",
       "      <td>0.085380</td>\n",
       "      <td>0.587220</td>\n",
       "      <td>0.443947</td>\n",
       "      <td>0.472578</td>\n",
       "      <td>40.811368</td>\n",
       "      <td>198.465988</td>\n",
       "      <td>477.620358</td>\n",
       "      <td>0.800900</td>\n",
       "      <td>1.503745</td>\n",
       "    </tr>\n",
       "    <tr>\n",
       "      <th>2</th>\n",
       "      <td>2</td>\n",
       "      <td>3</td>\n",
       "      <td>ACEBUTOLOL</td>\n",
       "      <td>CCCC(=O)Nc1ccc(OCC(O)CNC(C)C)c(c1)C(=O)C</td>\n",
       "      <td>0</td>\n",
       "      <td>0.0</td>\n",
       "      <td>-2.1004</td>\n",
       "      <td>4.411680</td>\n",
       "      <td>67.0727</td>\n",
       "      <td>55.758204</td>\n",
       "      <td>...</td>\n",
       "      <td>0.910758</td>\n",
       "      <td>0.057143</td>\n",
       "      <td>0.494202</td>\n",
       "      <td>0.319559</td>\n",
       "      <td>0.386393</td>\n",
       "      <td>29.370226</td>\n",
       "      <td>71.693573</td>\n",
       "      <td>143.387359</td>\n",
       "      <td>0.866137</td>\n",
       "      <td>1.200154</td>\n",
       "    </tr>\n",
       "    <tr>\n",
       "      <th>3</th>\n",
       "      <td>3</td>\n",
       "      <td>4</td>\n",
       "      <td>ACECAINIDE</td>\n",
       "      <td>CCN(CC)CCNC(=O)c1ccc(NC(=O)C)cc1</td>\n",
       "      <td>0</td>\n",
       "      <td>0.0</td>\n",
       "      <td>-0.5179</td>\n",
       "      <td>0.268220</td>\n",
       "      <td>52.6108</td>\n",
       "      <td>46.640239</td>\n",
       "      <td>...</td>\n",
       "      <td>0.908190</td>\n",
       "      <td>0.048952</td>\n",
       "      <td>0.533958</td>\n",
       "      <td>0.387559</td>\n",
       "      <td>0.470449</td>\n",
       "      <td>24.128665</td>\n",
       "      <td>49.765298</td>\n",
       "      <td>100.659835</td>\n",
       "      <td>0.862285</td>\n",
       "      <td>1.391967</td>\n",
       "    </tr>\n",
       "    <tr>\n",
       "      <th>4</th>\n",
       "      <td>4</td>\n",
       "      <td>5</td>\n",
       "      <td>ACECLOFENAC</td>\n",
       "      <td>OC(=O)COC(=O)Cc1ccccc1Nc2c(Cl)cccc2Cl</td>\n",
       "      <td>0</td>\n",
       "      <td>1.0</td>\n",
       "      <td>0.5703</td>\n",
       "      <td>0.325242</td>\n",
       "      <td>37.1534</td>\n",
       "      <td>45.496309</td>\n",
       "      <td>...</td>\n",
       "      <td>0.637072</td>\n",
       "      <td>0.328403</td>\n",
       "      <td>0.478416</td>\n",
       "      <td>0.401624</td>\n",
       "      <td>0.358254</td>\n",
       "      <td>15.813288</td>\n",
       "      <td>60.651906</td>\n",
       "      <td>105.027532</td>\n",
       "      <td>0.455608</td>\n",
       "      <td>1.238294</td>\n",
       "    </tr>\n",
       "    <tr>\n",
       "      <th>...</th>\n",
       "      <td>...</td>\n",
       "      <td>...</td>\n",
       "      <td>...</td>\n",
       "      <td>...</td>\n",
       "      <td>...</td>\n",
       "      <td>...</td>\n",
       "      <td>...</td>\n",
       "      <td>...</td>\n",
       "      <td>...</td>\n",
       "      <td>...</td>\n",
       "      <td>...</td>\n",
       "      <td>...</td>\n",
       "      <td>...</td>\n",
       "      <td>...</td>\n",
       "      <td>...</td>\n",
       "      <td>...</td>\n",
       "      <td>...</td>\n",
       "      <td>...</td>\n",
       "      <td>...</td>\n",
       "      <td>...</td>\n",
       "      <td>...</td>\n",
       "    </tr>\n",
       "    <tr>\n",
       "      <th>935</th>\n",
       "      <td>935</td>\n",
       "      <td>936</td>\n",
       "      <td>ZONISAMIDE</td>\n",
       "      <td>c1ccc2c(c1)c(no2)CS(=O)(=O)N</td>\n",
       "      <td>1</td>\n",
       "      <td>0.0</td>\n",
       "      <td>-1.0790</td>\n",
       "      <td>1.164241</td>\n",
       "      <td>17.4729</td>\n",
       "      <td>26.920344</td>\n",
       "      <td>...</td>\n",
       "      <td>0.757968</td>\n",
       "      <td>0.181602</td>\n",
       "      <td>0.562223</td>\n",
       "      <td>0.458080</td>\n",
       "      <td>0.319946</td>\n",
       "      <td>9.152687</td>\n",
       "      <td>16.287467</td>\n",
       "      <td>31.817957</td>\n",
       "      <td>0.636952</td>\n",
       "      <td>1.340249</td>\n",
       "    </tr>\n",
       "    <tr>\n",
       "      <th>936</th>\n",
       "      <td>936</td>\n",
       "      <td>937</td>\n",
       "      <td>ZOPICLONE</td>\n",
       "      <td>CN1CCN(CC1)C(=O)OC2c3c(nccn3)C(=O)N2c4ccc(cn4)Cl</td>\n",
       "      <td>1</td>\n",
       "      <td>0.0</td>\n",
       "      <td>0.3196</td>\n",
       "      <td>0.102144</td>\n",
       "      <td>52.4709</td>\n",
       "      <td>52.441481</td>\n",
       "      <td>...</td>\n",
       "      <td>0.608756</td>\n",
       "      <td>0.298939</td>\n",
       "      <td>0.476373</td>\n",
       "      <td>0.361331</td>\n",
       "      <td>0.438777</td>\n",
       "      <td>15.938358</td>\n",
       "      <td>67.512784</td>\n",
       "      <td>151.462539</td>\n",
       "      <td>0.413134</td>\n",
       "      <td>1.276481</td>\n",
       "    </tr>\n",
       "    <tr>\n",
       "      <th>937</th>\n",
       "      <td>937</td>\n",
       "      <td>938</td>\n",
       "      <td>ZOTEPINE</td>\n",
       "      <td>CN(C)CCOC1=Cc2ccccc2Sc3c1cc(cc3)Cl</td>\n",
       "      <td>1</td>\n",
       "      <td>0.0</td>\n",
       "      <td>1.4428</td>\n",
       "      <td>2.081672</td>\n",
       "      <td>48.3903</td>\n",
       "      <td>50.664274</td>\n",
       "      <td>...</td>\n",
       "      <td>0.761822</td>\n",
       "      <td>0.179889</td>\n",
       "      <td>0.535430</td>\n",
       "      <td>0.342230</td>\n",
       "      <td>0.420814</td>\n",
       "      <td>16.442415</td>\n",
       "      <td>51.890192</td>\n",
       "      <td>103.842100</td>\n",
       "      <td>0.642733</td>\n",
       "      <td>1.298474</td>\n",
       "    </tr>\n",
       "    <tr>\n",
       "      <th>938</th>\n",
       "      <td>938</td>\n",
       "      <td>939</td>\n",
       "      <td>ZOTEPINE</td>\n",
       "      <td>CN(C)CCOC1=Cc2cc(ccc2Sc3c1cccc3)Cl</td>\n",
       "      <td>1</td>\n",
       "      <td>0.0</td>\n",
       "      <td>1.4428</td>\n",
       "      <td>2.081672</td>\n",
       "      <td>48.3903</td>\n",
       "      <td>50.664274</td>\n",
       "      <td>...</td>\n",
       "      <td>0.763356</td>\n",
       "      <td>0.176037</td>\n",
       "      <td>0.533508</td>\n",
       "      <td>0.372269</td>\n",
       "      <td>0.410134</td>\n",
       "      <td>16.487995</td>\n",
       "      <td>52.009092</td>\n",
       "      <td>105.002302</td>\n",
       "      <td>0.645034</td>\n",
       "      <td>1.315910</td>\n",
       "    </tr>\n",
       "    <tr>\n",
       "      <th>939</th>\n",
       "      <td>939</td>\n",
       "      <td>940</td>\n",
       "      <td>ZUCLOPENTHIXOL</td>\n",
       "      <td>c1ccc2c(c1)/C(=C\\CCN3CCN(CC3)CCO)/c4cc(ccc4S2)Cl</td>\n",
       "      <td>1</td>\n",
       "      <td>0.0</td>\n",
       "      <td>0.9664</td>\n",
       "      <td>0.933929</td>\n",
       "      <td>66.7652</td>\n",
       "      <td>63.471825</td>\n",
       "      <td>...</td>\n",
       "      <td>NaN</td>\n",
       "      <td>NaN</td>\n",
       "      <td>NaN</td>\n",
       "      <td>NaN</td>\n",
       "      <td>NaN</td>\n",
       "      <td>NaN</td>\n",
       "      <td>NaN</td>\n",
       "      <td>NaN</td>\n",
       "      <td>NaN</td>\n",
       "      <td>NaN</td>\n",
       "    </tr>\n",
       "  </tbody>\n",
       "</table>\n",
       "<p>940 rows × 1880 columns</p>\n",
       "</div>"
      ],
      "text/plain": [
       "     Unnamed: 0   ID             name  \\\n",
       "0             0    1  ABACAVIRSULFATE   \n",
       "1             1    2         ACARBOSE   \n",
       "2             2    3       ACEBUTOLOL   \n",
       "3             3    4       ACECAINIDE   \n",
       "4             4    5      ACECLOFENAC   \n",
       "..          ...  ...              ...   \n",
       "935         935  936       ZONISAMIDE   \n",
       "936         936  937        ZOPICLONE   \n",
       "937         937  938         ZOTEPINE   \n",
       "938         938  939         ZOTEPINE   \n",
       "939         939  940   ZUCLOPENTHIXOL   \n",
       "\n",
       "                                                smiles  output  nAcid   ALogP  \\\n",
       "0                 Nc1nc(NC2CC2)c3ncn(C4CC(CO)C=C4)c3n1       0    0.0 -1.8653   \n",
       "1    CC1OC(OC2C(O)C(O)C(OC3C(O)C(O)C(O)OC3CO)OC2CO)...       0    0.0 -7.2263   \n",
       "2             CCCC(=O)Nc1ccc(OCC(O)CNC(C)C)c(c1)C(=O)C       0    0.0 -2.1004   \n",
       "3                     CCN(CC)CCNC(=O)c1ccc(NC(=O)C)cc1       0    0.0 -0.5179   \n",
       "4                OC(=O)COC(=O)Cc1ccccc1Nc2c(Cl)cccc2Cl       0    1.0  0.5703   \n",
       "..                                                 ...     ...    ...     ...   \n",
       "935                       c1ccc2c(c1)c(no2)CS(=O)(=O)N       1    0.0 -1.0790   \n",
       "936   CN1CCN(CC1)C(=O)OC2c3c(nccn3)C(=O)N2c4ccc(cn4)Cl       1    0.0  0.3196   \n",
       "937                 CN(C)CCOC1=Cc2ccccc2Sc3c1cc(cc3)Cl       1    0.0  1.4428   \n",
       "938                 CN(C)CCOC1=Cc2cc(ccc2Sc3c1cccc3)Cl       1    0.0  1.4428   \n",
       "939   c1ccc2c(c1)/C(=C\\CCN3CCN(CC3)CCO)/c4cc(ccc4S2)Cl       1    0.0  0.9664   \n",
       "\n",
       "        ALogp2       AMR       apol  ...       P1s       P2s       E1s  \\\n",
       "0     3.479344   47.8891  44.044274  ...  0.862046  0.116831  0.560654   \n",
       "1    52.219412  137.7680  88.208099  ...  0.867267  0.085380  0.587220   \n",
       "2     4.411680   67.0727  55.758204  ...  0.910758  0.057143  0.494202   \n",
       "3     0.268220   52.6108  46.640239  ...  0.908190  0.048952  0.533958   \n",
       "4     0.325242   37.1534  45.496309  ...  0.637072  0.328403  0.478416   \n",
       "..         ...       ...        ...  ...       ...       ...       ...   \n",
       "935   1.164241   17.4729  26.920344  ...  0.757968  0.181602  0.562223   \n",
       "936   0.102144   52.4709  52.441481  ...  0.608756  0.298939  0.476373   \n",
       "937   2.081672   48.3903  50.664274  ...  0.761822  0.179889  0.535430   \n",
       "938   2.081672   48.3903  50.664274  ...  0.763356  0.176037  0.533508   \n",
       "939   0.933929   66.7652  63.471825  ...       NaN       NaN       NaN   \n",
       "\n",
       "          E2s       E3s         Ts          As          Vs        Ks        Ds  \n",
       "0    0.379450  0.268039  20.706840   52.049186   91.644726  0.793068  1.208143  \n",
       "1    0.443947  0.472578  40.811368  198.465988  477.620358  0.800900  1.503745  \n",
       "2    0.319559  0.386393  29.370226   71.693573  143.387359  0.866137  1.200154  \n",
       "3    0.387559  0.470449  24.128665   49.765298  100.659835  0.862285  1.391967  \n",
       "4    0.401624  0.358254  15.813288   60.651906  105.027532  0.455608  1.238294  \n",
       "..        ...       ...        ...         ...         ...       ...       ...  \n",
       "935  0.458080  0.319946   9.152687   16.287467   31.817957  0.636952  1.340249  \n",
       "936  0.361331  0.438777  15.938358   67.512784  151.462539  0.413134  1.276481  \n",
       "937  0.342230  0.420814  16.442415   51.890192  103.842100  0.642733  1.298474  \n",
       "938  0.372269  0.410134  16.487995   52.009092  105.002302  0.645034  1.315910  \n",
       "939       NaN       NaN        NaN         NaN         NaN       NaN       NaN  \n",
       "\n",
       "[940 rows x 1880 columns]"
      ]
     },
     "execution_count": 2,
     "metadata": {},
     "output_type": "execute_result"
    }
   ],
   "source": [
    "dev_csv_file = r\"C:\\Users\\charl\\Desktop\\ASMA\\smiles_descriptor.csv\"  # <-- your data.csv path\n",
    "df0 = pd.read_csv(dev_csv_file)\n",
    "df0"
   ]
  },
  {
   "cell_type": "markdown",
   "metadata": {
    "id": "BgLAFqVo3uII"
   },
   "source": [
    "## [TODO]\n",
    "- feature engineering\n",
    "- feature selection"
   ]
  },
  {
   "cell_type": "code",
   "execution_count": 3,
   "metadata": {
    "id": "fXVIM5sQ3A17",
    "tags": []
   },
   "outputs": [],
   "source": [
    "# feature engineering\n",
    "# feature impute\n",
    "df0.loc[:, 'nAcid':] = df0.loc[:, 'nAcid':].replace([np.inf, -np.inf], np.nan)\n",
    "df0.loc[:, 'nAcid':] = df0.loc[:, 'nAcid':].fillna(0)  # just simple fill all NaN with 0"
   ]
  },
  {
   "cell_type": "code",
   "execution_count": 4,
   "metadata": {
    "id": "lR2r6IfN5FMr",
    "tags": []
   },
   "outputs": [],
   "source": [
    "# feature selection"
   ]
  },
  {
   "cell_type": "markdown",
   "metadata": {
    "id": "Ty3I40zx3gNn"
   },
   "source": [
    "## Define model feature inputs(X) and target output(y)"
   ]
  },
  {
   "cell_type": "code",
   "execution_count": 4,
   "metadata": {
    "id": "ESE2OzhC4Gdt",
    "tags": []
   },
   "outputs": [
    {
     "name": "stdout",
     "output_type": "stream",
     "text": [
      "Index(['nAcid', 'ALogP', 'ALogp2', 'AMR', 'apol', 'naAromAtom', 'nAromBond',\n",
      "       'nAtom', 'nHeavyAtom', 'nH',\n",
      "       ...\n",
      "       'P1s', 'P2s', 'E1s', 'E2s', 'E3s', 'Ts', 'As', 'Vs', 'Ks', 'Ds'],\n",
      "      dtype='object', length=1875)\n"
     ]
    }
   ],
   "source": [
    "print(df0.loc[:, 'nAcid':].columns)"
   ]
  },
  {
   "cell_type": "code",
   "execution_count": 5,
   "metadata": {
    "cellView": "form",
    "id": "k0WfjZqs35cn",
    "tags": []
   },
   "outputs": [
    {
     "name": "stdout",
     "output_type": "stream",
     "text": [
      "use feature columns： 1340\n"
     ]
    }
   ],
   "source": [
    "#@title check feature columns # 自行修改確認\n",
    "use_cols = ['AATS0e', 'AATS0i', 'AATS0m', 'AATS0p', 'AATS0s', 'AATS0v', 'AATS1e', 'AATS1i', 'AATS1m', 'AATS1p', 'AATS1s', 'AATS1v', 'AATS2e', 'AATS2i', 'AATS2m', 'AATS2p', 'AATS2s', 'AATS2v', 'AATS3e', 'AATS3i', 'AATS3m', 'AATS3p', 'AATS3s', 'AATS3v', 'AATS4e', 'AATS4i', 'AATS4m', 'AATS4p', 'AATS4s', 'AATS4v', 'AATS5e', 'AATS5i', 'AATS5m', 'AATS5p', 'AATS5s', 'AATS5v', 'AATS6e', 'AATS6i', 'AATS6m', 'AATS6p', 'AATS6s', 'AATS6v', 'AATS7e', 'AATS7i', 'AATS7m', 'AATS7p', 'AATS7s', 'AATS7v', 'AATS8e', 'AATS8i', 'AATS8m', 'AATS8p', 'AATS8s', 'AATS8v', 'AATSC0c', 'AATSC0e', 'AATSC0i', 'AATSC0m', 'AATSC0p', 'AATSC0v', 'AATSC1c', 'AATSC1e', 'AATSC1i', 'AATSC1m', 'AATSC1p', 'AATSC1s', 'AATSC1v', 'AATSC2c', 'AATSC2e', 'AATSC2i', 'AATSC2m', 'AATSC2p', 'AATSC2s', 'AATSC2v', 'AATSC3c', 'AATSC3e', 'AATSC3i', 'AATSC3m', 'AATSC3p', 'AATSC3s', 'AATSC3v', 'AATSC4c', 'AATSC4e', 'AATSC4i', 'AATSC4m', 'AATSC4p', 'AATSC4s', 'AATSC4v', 'AATSC5c', 'AATSC5e', 'AATSC5i', 'AATSC5m', 'AATSC5p', 'AATSC5s', 'AATSC5v', 'AATSC6c', 'AATSC6e', 'AATSC6i', 'AATSC6m', 'AATSC6p', 'AATSC6s', 'AATSC6v', 'AATSC7c', 'AATSC7e', 'AATSC7i', 'AATSC7m', 'AATSC7p', 'AATSC7s', 'AATSC7v', 'AATSC8c', 'AATSC8e', 'AATSC8i', 'AATSC8m', 'AATSC8p', 'AATSC8s', 'AATSC8v', 'AMW', 'ASP-0', 'ASP-1', 'ASP-2', 'ASP-3', 'ASP-4', 'ASP-5', 'ASP-6', 'ASP-7', 'ATS0e', 'ATS0i', 'ATS0m', 'ATS0p', 'ATS0s', 'ATS0v', 'ATS1e', 'ATS1i', 'ATS1m', 'ATS1p', 'ATS1s', 'ATS1v', 'ATS2e', 'ATS2i', 'ATS2m', 'ATS2p', 'ATS2s', 'ATS2v', 'ATS3e', 'ATS3i', 'ATS3m', 'ATS3p', 'ATS3s', 'ATS3v', 'ATS4e', 'ATS4i', 'ATS4m', 'ATS4p', 'ATS4s', 'ATS4v', 'ATS5e', 'ATS5i', 'ATS5m', 'ATS5p', 'ATS5s', 'ATS5v', 'ATS6e', 'ATS6i', 'ATS6m', 'ATS6p', 'ATS6s', 'ATS6v', 'ATS7e', 'ATS7i', 'ATS7m', 'ATS7p', 'ATS7s', 'ATS7v', 'ATS8e', 'ATS8i', 'ATS8m', 'ATS8p', 'ATS8s', 'ATS8v', 'ATSC0c', 'ATSC0e', 'ATSC0i', 'ATSC0m', 'ATSC0p', 'ATSC0v', 'ATSC1c', 'ATSC1e', 'ATSC1i', 'ATSC1m', 'ATSC1p', 'ATSC1s', 'ATSC1v', 'ATSC2c', 'ATSC2e', 'ATSC2i', 'ATSC2m', 'ATSC2p', 'ATSC2s', 'ATSC2v', 'ATSC3c', 'ATSC3e', 'ATSC3i', 'ATSC3m', 'ATSC3p', 'ATSC3s', 'ATSC3v', 'ATSC4c', 'ATSC4e', 'ATSC4i', 'ATSC4m', 'ATSC4p', 'ATSC4s', 'ATSC4v', 'ATSC5c', 'ATSC5e', 'ATSC5i', 'ATSC5m', 'ATSC5p', 'ATSC5s', 'ATSC5v', 'ATSC6c', 'ATSC6e', 'ATSC6i', 'ATSC6m', 'ATSC6p', 'ATSC6s', 'ATSC6v', 'ATSC7c', 'ATSC7e', 'ATSC7i', 'ATSC7m', 'ATSC7p', 'ATSC7s', 'ATSC7v', 'ATSC8c', 'ATSC8e', 'ATSC8i', 'ATSC8m', 'ATSC8p', 'ATSC8s', 'ATSC8v', 'AVP-0', 'AVP-1', 'AVP-2', 'AVP-3', 'AVP-4', 'AVP-5', 'AVP-6', 'AVP-7', 'BCUTc-1h', 'BCUTc-1l', 'BCUTp-1h', 'BCUTp-1l', 'BCUTw-1h', 'BCUTw-1l', 'BIC0', 'BIC1', 'BIC2', 'BIC3', 'BIC4', 'BIC5', 'C1SP1', 'C1SP2', 'C1SP3', 'C2SP1', 'C2SP2', 'C2SP3', 'C3SP2', 'C3SP3', 'C4SP3', 'CIC0', 'CIC1', 'CIC2', 'CIC3', 'CIC4', 'CIC5', 'CrippenLogP', 'CrippenMR', 'DELS', 'DELS2', 'ECCEN', 'EE_D', 'EE_Dt', 'EE_DzZ', 'EE_Dze', 'EE_Dzi', 'EE_Dzm', 'EE_Dzp', 'EE_Dzs', 'EE_Dzv', 'ETA_Alpha', 'ETA_AlphaP', 'ETA_Beta', 'ETA_BetaP', 'ETA_BetaP_ns', 'ETA_BetaP_ns_d', 'ETA_BetaP_s', 'ETA_Beta_ns', 'ETA_Beta_ns_d', 'ETA_Beta_s', 'ETA_Epsilon_1', 'ETA_Epsilon_2', 'ETA_Epsilon_3', 'ETA_Epsilon_4', 'ETA_Epsilon_5', 'ETA_Eta', 'ETA_EtaP', 'ETA_EtaP_B', 'ETA_EtaP_B_RC', 'ETA_EtaP_F_L', 'ETA_EtaP_L', 'ETA_Eta_B', 'ETA_Eta_B_RC', 'ETA_Eta_F_L', 'ETA_Eta_L', 'ETA_Eta_R', 'ETA_Eta_R_L', 'ETA_Psi_1', 'ETA_Shape_P', 'ETA_Shape_X', 'ETA_Shape_Y', 'ETA_dAlpha_A', 'ETA_dAlpha_B', 'ETA_dBeta', 'ETA_dBetaP', 'ETA_dEpsilon_A', 'ETA_dEpsilon_B', 'ETA_dEpsilon_C', 'ETA_dEpsilon_D', 'ETA_dPsi_A', 'ETA_dPsi_B', 'FMF', 'GATS1c', 'GATS1e', 'GATS1i', 'GATS1m', 'GATS1p', 'GATS1s', 'GATS1v', 'GATS2c', 'GATS2e', 'GATS2i', 'GATS2m', 'GATS2p', 'GATS2s', 'GATS2v', 'GATS3c', 'GATS3e', 'GATS3i', 'GATS3m', 'GATS3p', 'GATS3s', 'GATS3v', 'GATS4c', 'GATS4e', 'GATS4i', 'GATS4m', 'GATS4p', 'GATS4s', 'GATS4v', 'GATS5c', 'GATS5e', 'GATS5i', 'GATS5m', 'GATS5p', 'GATS5s', 'GATS5v', 'GATS6c', 'GATS6e', 'GATS6i', 'GATS6m', 'GATS6p', 'GATS6s', 'GATS6v', 'GATS7c', 'GATS7e', 'GATS7i', 'GATS7m', 'GATS7p', 'GATS7s', 'GATS7v', 'GATS8c', 'GATS8e', 'GATS8i', 'GATS8m', 'GATS8p', 'GATS8s', 'GATS8v', 'GGI1', 'GGI10', 'GGI2', 'GGI3', 'GGI4', 'GGI5', 'GGI6', 'GGI7', 'GGI8', 'GGI9', 'HybRatio', 'IC0', 'IC1', 'IC2', 'IC3', 'IC4', 'IC5', 'JGI1', 'JGI10', 'JGI2', 'JGI3', 'JGI4', 'JGI5', 'JGI6', 'JGI7', 'JGI8', 'JGI9', 'JGT', 'Kier1', 'Kier2', 'Kier3', 'LipinskiFailures', 'MATS1c', 'MATS1e', 'MATS1i', 'MATS1m', 'MATS1p', 'MATS1s', 'MATS1v', 'MATS2c', 'MATS2e', 'MATS2i', 'MATS2m', 'MATS2p', 'MATS2s', 'MATS2v', 'MATS3c', 'MATS3e', 'MATS3i', 'MATS3m', 'MATS3p', 'MATS3s', 'MATS3v', 'MATS4c', 'MATS4e', 'MATS4i', 'MATS4m', 'MATS4p', 'MATS4s', 'MATS4v', 'MATS5c', 'MATS5e', 'MATS5i', 'MATS5m', 'MATS5p', 'MATS5s', 'MATS5v', 'MATS6c', 'MATS6e', 'MATS6i', 'MATS6m', 'MATS6p', 'MATS6s', 'MATS6v', 'MATS7c', 'MATS7e', 'MATS7i', 'MATS7m', 'MATS7p', 'MATS7s', 'MATS7v', 'MATS8c', 'MATS8e', 'MATS8i', 'MATS8m', 'MATS8p', 'MATS8s', 'MATS8v', 'MAXDN', 'MAXDN2', 'MAXDP', 'MAXDP2', 'MDEC-11', 'MDEC-12', 'MDEC-13', 'MDEC-14', 'MDEC-22', 'MDEC-23', 'MDEC-24', 'MDEC-33', 'MDEC-34', 'MDEC-44', 'MDEN-11', 'MDEN-12', 'MDEN-13', 'MDEN-22', 'MDEN-23', 'MDEN-33', 'MDEO-11', 'MDEO-12', 'MDEO-22', 'MIC0', 'MIC1', 'MIC2', 'MIC3', 'MIC4', 'MIC5', 'MLFER_A', 'MLFER_BH', 'MLFER_BO', 'MLFER_E', 'MLFER_L', 'MLFER_S', 'MLogP', 'MPC10', 'MPC2', 'MPC3', 'MPC4', 'MPC5', 'MPC6', 'MPC7', 'MPC8', 'MPC9', 'MW', 'MWC10', 'MWC2', 'MWC3', 'MWC4', 'MWC5', 'MWC6', 'MWC7', 'MWC8', 'MWC9', 'Mare', 'McGowan_Volume', 'Mi', 'Mp', 'Mpe', 'Mse', 'Mv', 'PetitjeanNumber', 'R_TpiPCTPC', 'RotBFrac', 'RotBtFrac', 'SC-3', 'SC-4', 'SC-5', 'SC-6', 'SCH-3', 'SCH-4', 'SCH-5', 'SCH-6', 'SCH-7', 'SHAvin', 'SHBa', 'SHBd', 'SHBint10', 'SHBint2', 'SHBint3', 'SHBint4', 'SHBint5', 'SHBint6', 'SHBint7', 'SHBint8', 'SHBint9', 'SHCHnX', 'SHCsats', 'SHCsatu', 'SHaaCH', 'SHaaNH', 'SHdCH2', 'SHdNH', 'SHdsCH', 'SHmisc', 'SHother', 'SHsNH2', 'SHsNH3p', 'SHsOH', 'SHsSH', 'SHssNH', 'SHssNH2p', 'SHsssNHp', 'SHtCH', 'SIC0', 'SIC1', 'SIC2', 'SIC3', 'SIC4', 'SIC5', 'SM1_DzZ', 'SM1_Dze', 'SM1_Dzi', 'SM1_Dzm', 'SM1_Dzp', 'SM1_Dzs', 'SM1_Dzv', 'SP-0', 'SP-1', 'SP-2', 'SP-3', 'SP-4', 'SP-5', 'SP-6', 'SP-7', 'SPC-4', 'SPC-5', 'SPC-6', 'SRW10', 'SRW2', 'SRW3', 'SRW4', 'SRW5', 'SRW6', 'SRW7', 'SRW8', 'SRW9', 'SSm', 'SaOm', 'SaaCH', 'SaaN', 'SaaNH', 'SaaO', 'SaaS', 'SaaSe', 'SaaaC', 'SaasC', 'SaasN', 'Sare', 'SdCH2', 'SdNH', 'SdO', 'SdS', 'SdSe', 'SddC', 'SddsAs', 'SddsN', 'SddsP', 'SddssS', 'SddssSe', 'SdsCH', 'SdsN', 'SdssC', 'SdssS', 'SdssSe', 'SdsssAs', 'SdsssP', 'Si', 'Sp', 'SpAD_D', 'SpAD_Dt', 'SpAD_DzZ', 'SpAD_Dze', 'SpAD_Dzi', 'SpAD_Dzm', 'SpAD_Dzp', 'SpAD_Dzs', 'SpAD_Dzv', 'SpAbs_DzZ', 'SpAbs_Dze', 'SpAbs_Dzi', 'SpAbs_Dzm', 'SpAbs_Dzp', 'SpAbs_Dzs', 'SpAbs_Dzv', 'SpDiam_D', 'SpDiam_Dt', 'SpDiam_DzZ', 'SpDiam_Dze', 'SpDiam_Dzi', 'SpDiam_Dzm', 'SpDiam_Dzp', 'SpDiam_Dzs', 'SpDiam_Dzv', 'SpMAD_D', 'SpMAD_Dt', 'SpMAD_DzZ', 'SpMAD_Dze', 'SpMAD_Dzi', 'SpMAD_Dzm', 'SpMAD_Dzp', 'SpMAD_Dzs', 'SpMAD_Dzv', 'SpMax_D', 'SpMax_Dt', 'SpMax_DzZ', 'SpMax_Dze', 'SpMax_Dzi', 'SpMax_Dzm', 'SpMax_Dzp', 'SpMax_Dzs', 'SpMax_Dzv', 'Spe', 'SsAsH2', 'SsBH2', 'SsBr', 'SsCH3', 'SsCl', 'SsF', 'SsGeH3', 'SsI', 'SsLi', 'SsNH2', 'SsNH3p', 'SsOH', 'SsOm', 'SsPH2', 'SsPbH3', 'SsSH', 'SsSeH', 'SsSiH3', 'SsSnH3', 'Sse', 'SssAsH', 'SssBH', 'SssBe', 'SssCH2', 'SssGeH2', 'SssNH', 'SssNH2p', 'SssO', 'SssPH', 'SssPbH2', 'SssS', 'SssSe', 'SssSiH2', 'SssSnH2', 'SsssAs', 'SsssB', 'SsssCH', 'SsssGeH', 'SsssN', 'SsssNHp', 'SsssP', 'SsssPbH', 'SsssSiH', 'SsssSnH', 'SssssBem', 'SssssBm', 'SssssC', 'SssssGe', 'SssssNp', 'SssssPb', 'SssssSi', 'SssssSn', 'SsssssAs', 'SsssssP', 'SssssssS', 'SssssssSe', 'StCH', 'StN', 'StsC', 'Sv', 'SwHBa', 'SwHBd', 'TIC0', 'TIC1', 'TIC2', 'TIC3', 'TIC4', 'TIC5', 'TPC', 'TSRW', 'TWC', 'TopoPSA', 'TpiPC', 'VABC', 'VAdjMat', 'VC-3', 'VC-4', 'VC-5', 'VC-6', 'VCH-3', 'VCH-4', 'VCH-5', 'VCH-6', 'VCH-7', 'VE1_D', 'VE1_Dt', 'VE1_DzZ', 'VE1_Dze', 'VE1_Dzi', 'VE1_Dzm', 'VE1_Dzp', 'VE1_Dzs', 'VE1_Dzv', 'VE2_D', 'VE2_Dt', 'VE2_DzZ', 'VE2_Dze', 'VE2_Dzi', 'VE2_Dzm', 'VE2_Dzp', 'VE2_Dzs', 'VE2_Dzv', 'VE3_D', 'VE3_Dt', 'VE3_DzZ', 'VE3_Dze', 'VE3_Dzi', 'VE3_Dzm', 'VE3_Dzp', 'VE3_Dzs', 'VE3_Dzv', 'VP-0', 'VP-1', 'VP-2', 'VP-3', 'VP-4', 'VP-5', 'VP-6', 'VP-7', 'VPC-4', 'VPC-5', 'VPC-6', 'VR1_D', 'VR1_Dt', 'VR1_DzZ', 'VR1_Dze', 'VR1_Dzi', 'VR1_Dzm', 'VR1_Dzp', 'VR1_Dzs', 'VR1_Dzv', 'VR2_D', 'VR2_Dt', 'VR2_DzZ', 'VR2_Dze', 'VR2_Dzi', 'VR2_Dzm', 'VR2_Dzp', 'VR2_Dzs', 'VR2_Dzv', 'VR3_D', 'VR3_Dt', 'VR3_DzZ', 'VR3_Dze', 'VR3_Dzi', 'VR3_Dzm', 'VR3_Dzp', 'VR3_Dzs', 'VR3_Dzv', 'WPATH', 'WPOL', 'WTPT-1', 'WTPT-2', 'WTPT-3', 'WTPT-4', 'WTPT-5', 'XLogP', 'ZMIC0', 'ZMIC1', 'ZMIC2', 'ZMIC3', 'ZMIC4', 'ZMIC5', 'Zagreb', 'apol', 'bpol', 'fragC', 'gmax', 'gmin', 'hmax', 'hmin', 'maxHAvin', 'maxHBa', 'maxHBd', 'maxHBint10', 'maxHBint2', 'maxHBint3', 'maxHBint4', 'maxHBint5', 'maxHBint6', 'maxHBint7', 'maxHBint8', 'maxHBint9', 'maxHCHnX', 'maxHCsats', 'maxHCsatu', 'maxHaaCH', 'maxHaaNH', 'maxHdCH2', 'maxHdNH', 'maxHdsCH', 'maxHmisc', 'maxHother', 'maxHsNH2', 'maxHsNH3p', 'maxHsOH', 'maxHsSH', 'maxHssNH', 'maxHssNH2p', 'maxHsssNHp', 'maxHtCH', 'maxSm', 'maxaOm', 'maxaaCH', 'maxaaN', 'maxaaNH', 'maxaaO', 'maxaaS', 'maxaaSe', 'maxaaaC', 'maxaasC', 'maxaasN', 'maxdCH2', 'maxdNH', 'maxdO', 'maxdS', 'maxdSe', 'maxddC', 'maxddsAs', 'maxddsN', 'maxddsP', 'maxddssS', 'maxddssSe', 'maxdsCH', 'maxdsN', 'maxdssC', 'maxdssS', 'maxdssSe', 'maxdsssAs', 'maxdsssP', 'maxsAsH2', 'maxsBH2', 'maxsBr', 'maxsCH3', 'maxsCl', 'maxsF', 'maxsGeH3', 'maxsI', 'maxsLi', 'maxsNH2', 'maxsNH3p', 'maxsOH', 'maxsOm', 'maxsPH2', 'maxsPbH3', 'maxsSH', 'maxsSeH', 'maxsSiH3', 'maxsSnH3', 'maxssAsH', 'maxssBH', 'maxssBe', 'maxssCH2', 'maxssGeH2', 'maxssNH', 'maxssNH2p', 'maxssO', 'maxssPH', 'maxssPbH2', 'maxssS', 'maxssSe', 'maxssSiH2', 'maxssSnH2', 'maxsssAs', 'maxsssB', 'maxsssCH', 'maxsssGeH', 'maxsssN', 'maxsssNHp', 'maxsssP', 'maxsssPbH', 'maxsssSiH', 'maxsssSnH', 'maxssssBem', 'maxssssBm', 'maxssssC', 'maxssssGe', 'maxssssNp', 'maxssssPb', 'maxssssSi', 'maxssssSn', 'maxsssssAs', 'maxsssssP', 'maxssssssS', 'maxssssssSe', 'maxtCH', 'maxtN', 'maxtsC', 'maxwHBa', 'maxwHBd', 'meanI', 'minHAvin', 'minHBa', 'minHBd', 'minHBint10', 'minHBint2', 'minHBint3', 'minHBint4', 'minHBint5', 'minHBint6', 'minHBint7', 'minHBint8', 'minHBint9', 'minHCHnX', 'minHCsats', 'minHCsatu', 'minHaaCH', 'minHaaNH', 'minHdCH2', 'minHdNH', 'minHdsCH', 'minHmisc', 'minHother', 'minHsNH2', 'minHsNH3p', 'minHsOH', 'minHsSH', 'minHssNH', 'minHssNH2p', 'minHsssNHp', 'minHtCH', 'minSm', 'minaOm', 'minaaCH', 'minaaN', 'minaaNH', 'minaaO', 'minaaS', 'minaaSe', 'minaaaC', 'minaasC', 'minaasN', 'mindCH2', 'mindNH', 'mindO', 'mindS', 'mindSe', 'minddC', 'minddsAs', 'minddsN', 'minddsP', 'minddssS', 'minddssSe', 'mindsCH', 'mindsN', 'mindssC', 'mindssS', 'mindssSe', 'mindsssAs', 'mindsssP', 'minsAsH2', 'minsBH2', 'minsBr', 'minsCH3', 'minsCl', 'minsF', 'minsGeH3', 'minsI', 'minsLi', 'minsNH2', 'minsNH3p', 'minsOH', 'minsOm', 'minsPH2', 'minsPbH3', 'minsSH', 'minsSeH', 'minsSiH3', 'minsSnH3', 'minssAsH', 'minssBH', 'minssBe', 'minssCH2', 'minssGeH2', 'minssNH', 'minssNH2p', 'minssO', 'minssPH', 'minssPbH2', 'minssS', 'minssSe', 'minssSiH2', 'minssSnH2', 'minsssAs', 'minsssB', 'minsssCH', 'minsssGeH', 'minsssN', 'minsssNHp', 'minsssP', 'minsssPbH', 'minsssSiH', 'minsssSnH', 'minssssBem', 'minssssBm', 'minssssC', 'minssssGe', 'minssssNp', 'minssssPb', 'minssssSi', 'minssssSn', 'minsssssAs', 'minsssssP', 'minssssssS', 'minssssssSe', 'mintCH', 'mintN', 'mintsC', 'minwHBa', 'minwHBd', 'n10HeteroRing', 'n10Ring', 'n11HeteroRing', 'n11Ring', 'n12HeteroRing', 'n12Ring', 'n3HeteroRing', 'n3Ring', 'n4HeteroRing', 'n4Ring', 'n5HeteroRing', 'n5Ring', 'n6HeteroRing', 'n6Ring', 'n7HeteroRing', 'n7Ring', 'n8HeteroRing', 'n8Ring', 'n9HeteroRing', 'n9Ring', 'nAcid', 'nAromBond', 'nAtom', 'nAtomLAC', 'nAtomLC', 'nAtomP', 'nB', 'nBase', 'nBonds', 'nBonds2', 'nBondsD', 'nBondsD2', 'nBondsM', 'nBondsQ', 'nBondsS', 'nBondsS2', 'nBondsS3', 'nBondsT', 'nBr', 'nC', 'nCl', 'nF', 'nF10HeteroRing', 'nF10Ring', 'nF11HeteroRing', 'nF11Ring', 'nF12HeteroRing', 'nF12Ring', 'nF4HeteroRing', 'nF4Ring', 'nF5HeteroRing', 'nF5Ring', 'nF6HeteroRing', 'nF6Ring', 'nF7HeteroRing', 'nF7Ring', 'nF8HeteroRing', 'nF8Ring', 'nF9HeteroRing', 'nF9Ring', 'nFG12HeteroRing', 'nFG12Ring', 'nFHeteroRing', 'nFRing', 'nG12HeteroRing', 'nG12Ring', 'nH', 'nHAvin', 'nHBAcc', 'nHBAcc2', 'nHBAcc3', 'nHBAcc_Lipinski', 'nHBDon', 'nHBDon_Lipinski', 'nHBa', 'nHBd', 'nHBint10', 'nHBint2', 'nHBint3', 'nHBint4', 'nHBint5', 'nHBint6', 'nHBint7', 'nHBint8', 'nHBint9', 'nHCHnX', 'nHCsats', 'nHCsatu', 'nHaaCH', 'nHaaNH', 'nHdCH2', 'nHdNH', 'nHdsCH', 'nHeavyAtom', 'nHeteroRing', 'nHmisc', 'nHother', 'nHsNH2', 'nHsNH3p', 'nHsOH', 'nHsSH', 'nHssNH', 'nHssNH2p', 'nHsssNHp', 'nHtCH', 'nI', 'nN', 'nO', 'nP', 'nRing', 'nRotB', 'nRotBt', 'nS', 'nSm', 'nT10HeteroRing', 'nT10Ring', 'nT11HeteroRing', 'nT11Ring', 'nT12HeteroRing', 'nT12Ring', 'nT4HeteroRing', 'nT4Ring', 'nT5HeteroRing', 'nT5Ring', 'nT6HeteroRing', 'nT6Ring', 'nT7HeteroRing', 'nT7Ring', 'nT8HeteroRing', 'nT8Ring', 'nT9HeteroRing', 'nT9Ring', 'nTG12HeteroRing', 'nTG12Ring', 'nTHeteroRing', 'nTRing', 'nX', 'naAromAtom', 'naOm', 'naaCH', 'naaN', 'naaNH', 'naaO', 'naaS', 'naaSe', 'naaaC', 'naasC', 'naasN', 'ndCH2', 'ndNH', 'ndO', 'ndS', 'ndSe', 'nddC', 'nddsAs', 'nddsN', 'nddsP', 'nddssS', 'nddssSe', 'ndsCH', 'ndsN', 'ndssC', 'ndssS', 'ndssSe', 'ndsssAs', 'ndsssP', 'nsAsH2', 'nsBH2', 'nsBr', 'nsCH3', 'nsCl', 'nsF', 'nsGeH3', 'nsI', 'nsLi', 'nsNH2', 'nsNH3p', 'nsOH', 'nsOm', 'nsPH2', 'nsPbH3', 'nsSH', 'nsSeH', 'nsSiH3', 'nsSnH3', 'nssAsH', 'nssBH', 'nssBe', 'nssCH2', 'nssGeH2', 'nssNH', 'nssNH2p', 'nssO', 'nssPH', 'nssPbH2', 'nssS', 'nssSe', 'nssSiH2', 'nssSnH2', 'nsssAs', 'nsssB', 'nsssCH', 'nsssGeH', 'nsssN', 'nsssNHp', 'nsssP', 'nsssPbH', 'nsssSiH', 'nsssSnH', 'nssssBem', 'nssssBm', 'nssssC', 'nssssGe', 'nssssNp', 'nssssPb', 'nssssSi', 'nssssSn', 'nsssssAs', 'nsssssP', 'nssssssS', 'nssssssSe', 'ntCH', 'ntN', 'ntsC', 'nwHBa', 'nwHBd', 'piPC1', 'piPC10', 'piPC2', 'piPC3', 'piPC4', 'piPC5', 'piPC6', 'piPC7', 'piPC8', 'piPC9', 'sumI', 'topoDiameter', 'topoRadius', 'topoShape']\n",
    "\n",
    "print(\"use feature columns：\", len(use_cols))"
   ]
  },
  {
   "cell_type": "code",
   "execution_count": 6,
   "metadata": {
    "id": "DJu8pmS22UMM",
    "tags": []
   },
   "outputs": [
    {
     "name": "stdout",
     "output_type": "stream",
     "text": [
      "X array shape = (940, 1340) float64\n",
      "y array shape = (940,) int64\n"
     ]
    }
   ],
   "source": [
    "# feature(X) and target(y)\n",
    "X_raw = df0.loc[:, use_cols].values\n",
    "y = df0['output'].values\n",
    "print(\"X array shape =\", X_raw.shape, X_raw.dtype)\n",
    "print(\"y array shape =\", y.shape, y.dtype)"
   ]
  },
  {
   "cell_type": "code",
   "execution_count": 7,
   "metadata": {
    "id": "dFzckSSa5Den",
    "tags": []
   },
   "outputs": [
    {
     "name": "stdout",
     "output_type": "stream",
     "text": [
      "Normalized X = [[5.85688803e-01 6.92237291e-01 4.59360783e-02 ... 1.10000000e-08\n",
      "  6.00000600e-06 8.34166667e-04]\n",
      " [6.34823262e-01 6.94346971e-01 5.01517469e-02 ... 2.00000000e-08\n",
      "  1.00000100e-05 1.00100000e-03]\n",
      " [5.80205075e-01 6.82912277e-01 4.01128305e-02 ... 1.50000000e-08\n",
      "  8.00000800e-06 8.75875000e-04]\n",
      " ...\n",
      " [5.68713592e-01 6.48777403e-01 5.76524259e-02 ... 1.00000000e-08\n",
      "  5.00000500e-06 1.00100000e-03]\n",
      " [5.68713592e-01 6.48777403e-01 5.76524259e-02 ... 1.00000000e-08\n",
      "  5.00000500e-06 1.00100000e-03]\n",
      " [5.66739396e-01 6.56904788e-01 6.08631874e-02 ... 1.40000000e-08\n",
      "  7.00000700e-06 1.00100000e-03]]\n"
     ]
    }
   ],
   "source": [
    "# feature normalization\n",
    "# Normalization fit X_raw\n",
    "transformer = MinMaxScaler().fit(X_raw)\n",
    "# transform X_raw to normalized (X)\n",
    "X = transformer.transform(X_raw)\n",
    "print(\"Normalized X =\", X)"
   ]
  },
  {
   "cell_type": "markdown",
   "metadata": {
    "id": "MWwCkYev7HBB"
   },
   "source": [
    "# 2 Modeling with 5-fold cross-validation\n",
    "https://scikit-learn.org/stable/modules/cross_validation.html  \n",
    "https://scikit-learn.org/stable/modules/generated/sklearn.model_selection.StratifiedKFold.html#sklearn.model_selection.StratifiedKFold  "
   ]
  },
  {
   "cell_type": "code",
   "execution_count": 8,
   "metadata": {
    "id": "yFtI2K1X2ioY",
    "tags": []
   },
   "outputs": [
    {
     "name": "stdout",
     "output_type": "stream",
     "text": [
      "Fold 0:\n",
      "X_train shape = (752, 1340) \t y_train shape = (752,)\n",
      "X_valid shape = (188, 1340) \t y_valid shape = (188,)\n",
      "Fold 1:\n",
      "X_train shape = (752, 1340) \t y_train shape = (752,)\n",
      "X_valid shape = (188, 1340) \t y_valid shape = (188,)\n",
      "Fold 2:\n",
      "X_train shape = (752, 1340) \t y_train shape = (752,)\n",
      "X_valid shape = (188, 1340) \t y_valid shape = (188,)\n",
      "Fold 3:\n",
      "X_train shape = (752, 1340) \t y_train shape = (752,)\n",
      "X_valid shape = (188, 1340) \t y_valid shape = (188,)\n",
      "Fold 4:\n",
      "X_train shape = (752, 1340) \t y_train shape = (752,)\n",
      "X_valid shape = (188, 1340) \t y_valid shape = (188,)\n"
     ]
    }
   ],
   "source": [
    "# check 5-fold cross-validation\n",
    "skf = StratifiedKFold(n_splits=5, shuffle=True, random_state=33)\n",
    "for i, (train_index, valid_index) in enumerate(skf.split(X, y)):\n",
    "    print(f\"Fold {i}:\")\n",
    "    X_train = X[train_index]\n",
    "    y_train = y[train_index]\n",
    "    X_valid = X[valid_index]\n",
    "    y_valid = y[valid_index]\n",
    "    print(\"X_train shape =\", X_train.shape, \"\\t y_train shape =\", y_train.shape)\n",
    "    print(\"X_valid shape =\", X_valid.shape, \"\\t y_valid shape =\", y_valid.shape)"
   ]
  },
  {
   "cell_type": "markdown",
   "metadata": {
    "id": "tk_uQHR88qJ6"
   },
   "source": [
    "## Classifier"
   ]
  },
  {
   "cell_type": "markdown",
   "metadata": {
    "tags": []
   },
   "source": [
    "### SVM"
   ]
  },
  {
   "cell_type": "code",
   "execution_count": null,
   "metadata": {
    "id": "FjXHe3Hy8Vbj"
   },
   "outputs": [],
   "source": [
    "# Support Vector Machine (SVM)\n",
    "from sklearn.svm import SVC\n",
    "\n",
    "models_list = []  # total 5 models\n",
    "y_true_list = []\n",
    "y_prob_list = []\n",
    "\n",
    "# train with 5-fold\n",
    "for i, (train_index, valid_index) in enumerate(skf.split(X, y)):\n",
    "    print(f\"[Fold {i}]\")\n",
    "    X_train = X[train_index].astype('float32')\n",
    "    y_train = y[train_index].astype('float32')\n",
    "    X_valid = X[valid_index].astype('float32')\n",
    "    y_valid = y[valid_index].astype('float32')\n",
    "    print(\"X_train shape =\", X_train.shape, X_train.dtype, \"\\t y_train shape =\", y_train.shape, y_train.dtype)\n",
    "    print(\"X_valid shape =\", X_valid.shape, X_valid.dtype, \"\\t y_valid shape =\", y_valid.shape, y_valid.dtype)\n",
    "    # train model\n",
    "    model = SVC(C=1.0, kernel='rbf', probability=True)\n",
    "    model.fit(X_train, y_train)\n",
    "    # predict probability\n",
    "    y_true = y_valid\n",
    "    y_prob = model.predict_proba(X_valid)  # pred:[class0, class1]\n",
    "    print(\"model output shape =\", y_prob.shape)\n",
    "    y_prob = y_prob[:, 1]  # use class1 as single output\n",
    "    # append to list\n",
    "    models_list.append(model)\n",
    "    y_true_list.append(y_true)\n",
    "    y_prob_list.append(y_prob)\n",
    "    # classification report from single model (with threshold 0.5)\n",
    "    print(classification_report(y_true, y_prob > 0.5))\n",
    "    # break"
   ]
  },
  {
   "cell_type": "markdown",
   "metadata": {},
   "source": [
    "### KNN"
   ]
  },
  {
   "cell_type": "code",
   "execution_count": 36,
   "metadata": {
    "tags": []
   },
   "outputs": [
    {
     "name": "stdout",
     "output_type": "stream",
     "text": [
      "[Fold 0]\n",
      "X_train shape = (752, 1340) float32 \t y_train shape = (752,) float32\n",
      "X_valid shape = (188, 1340) float32 \t y_valid shape = (188,) float32\n",
      "model output shape = (188, 2)\n",
      "              precision    recall  f1-score   support\n",
      "\n",
      "         0.0       0.90      0.82      0.86       125\n",
      "         1.0       0.70      0.83      0.76        63\n",
      "\n",
      "    accuracy                           0.82       188\n",
      "   macro avg       0.80      0.82      0.81       188\n",
      "weighted avg       0.84      0.82      0.83       188\n",
      "\n",
      "[Fold 1]\n",
      "X_train shape = (752, 1340) float32 \t y_train shape = (752,) float32\n",
      "X_valid shape = (188, 1340) float32 \t y_valid shape = (188,) float32\n",
      "model output shape = (188, 2)\n",
      "              precision    recall  f1-score   support\n",
      "\n",
      "         0.0       0.90      0.87      0.89       125\n",
      "         1.0       0.76      0.81      0.78        63\n",
      "\n",
      "    accuracy                           0.85       188\n",
      "   macro avg       0.83      0.84      0.84       188\n",
      "weighted avg       0.85      0.85      0.85       188\n",
      "\n",
      "[Fold 2]\n",
      "X_train shape = (752, 1340) float32 \t y_train shape = (752,) float32\n",
      "X_valid shape = (188, 1340) float32 \t y_valid shape = (188,) float32\n",
      "model output shape = (188, 2)\n",
      "              precision    recall  f1-score   support\n",
      "\n",
      "         0.0       0.92      0.86      0.89       125\n",
      "         1.0       0.76      0.84      0.80        63\n",
      "\n",
      "    accuracy                           0.86       188\n",
      "   macro avg       0.84      0.85      0.84       188\n",
      "weighted avg       0.86      0.86      0.86       188\n",
      "\n",
      "[Fold 3]\n",
      "X_train shape = (752, 1340) float32 \t y_train shape = (752,) float32\n",
      "X_valid shape = (188, 1340) float32 \t y_valid shape = (188,) float32\n",
      "model output shape = (188, 2)\n",
      "              precision    recall  f1-score   support\n",
      "\n",
      "         0.0       0.87      0.77      0.82       125\n",
      "         1.0       0.63      0.78      0.70        63\n",
      "\n",
      "    accuracy                           0.77       188\n",
      "   macro avg       0.75      0.77      0.76       188\n",
      "weighted avg       0.79      0.77      0.78       188\n",
      "\n",
      "[Fold 4]\n",
      "X_train shape = (752, 1340) float32 \t y_train shape = (752,) float32\n",
      "X_valid shape = (188, 1340) float32 \t y_valid shape = (188,) float32\n",
      "model output shape = (188, 2)\n",
      "              precision    recall  f1-score   support\n",
      "\n",
      "         0.0       0.91      0.85      0.88       124\n",
      "         1.0       0.74      0.83      0.78        64\n",
      "\n",
      "    accuracy                           0.84       188\n",
      "   macro avg       0.82      0.84      0.83       188\n",
      "weighted avg       0.85      0.84      0.84       188\n",
      "\n"
     ]
    },
    {
     "data": {
      "text/plain": [
       "'\\n# 創建KNN分類器，指定K的值\\nknn = KNeighborsClassifier(n_neighbors=3)  # 這裡K=3\\n\\n# 使用訓練數據訓練分類器\\nknn.fit(X_train, y_train)\\n\\n# 使用分類器對測試數據進行預測\\ny_pred = knn.predict(X_test)\\n\\n# 計算分類器的準確度\\naccuracy = accuracy_score(y_test, y_pred)\\nprint(\"準確度：\", accuracy)\\n\\n# 輸出預測結果\\nprint(\"測試集的預測結果：\", y_pred)\\n'"
      ]
     },
     "execution_count": 36,
     "metadata": {},
     "output_type": "execute_result"
    }
   ],
   "source": [
    "# 引入必要的函式庫\n",
    "from sklearn import datasets\n",
    "from sklearn.neighbors import KNeighborsClassifier\n",
    "\n",
    "models_list = []  # total 5 models\n",
    "y_true_list = []\n",
    "y_prob_list = []\n",
    "\n",
    "# train with 5-fold\n",
    "for i, (train_index, valid_index) in enumerate(skf.split(X, y)):\n",
    "    print(f\"[Fold {i}]\")\n",
    "    X_train = X[train_index].astype('float32')\n",
    "    y_train = y[train_index].astype('float32')\n",
    "    X_valid = X[valid_index].astype('float32')\n",
    "    y_valid = y[valid_index].astype('float32')\n",
    "    print(\"X_train shape =\", X_train.shape, X_train.dtype, \"\\t y_train shape =\", y_train.shape, y_train.dtype)\n",
    "    print(\"X_valid shape =\", X_valid.shape, X_valid.dtype, \"\\t y_valid shape =\", y_valid.shape, y_valid.dtype)\n",
    "    # train model\n",
    "    knn = KNeighborsClassifier(n_neighbors=15)  # 這裡K=3\n",
    "    knn.fit(X_train, y_train)\n",
    "    # predict probability\n",
    "    y_true = y_valid\n",
    "    y_prob = knn.predict_proba(X_valid)  # pred:[class0, class1]\n",
    "    print(\"model output shape =\", y_prob.shape)\n",
    "    y_prob = y_prob[:, 1]  # use class1 as single output\n",
    "    # append to list\n",
    "    models_list.append(knn)\n",
    "    y_true_list.append(y_true)\n",
    "    y_prob_list.append(y_prob)\n",
    "    # classification report from single model (with threshold 0.5)\n",
    "    print(classification_report(y_true, y_prob > 0.5))\n",
    "    # break\n",
    "\"\"\"\n",
    "# 創建KNN分類器，指定K的值\n",
    "knn = KNeighborsClassifier(n_neighbors=3)  # 這裡K=3\n",
    "\n",
    "# 使用訓練數據訓練分類器\n",
    "knn.fit(X_train, y_train)\n",
    "\n",
    "# 使用分類器對測試數據進行預測\n",
    "y_pred = knn.predict(X_test)\n",
    "\n",
    "# 計算分類器的準確度\n",
    "accuracy = accuracy_score(y_test, y_pred)\n",
    "print(\"準確度：\", accuracy)\n",
    "\n",
    "# 輸出預測結果\n",
    "print(\"測試集的預測結果：\", y_pred)\n",
    "\"\"\""
   ]
  },
  {
   "cell_type": "markdown",
   "metadata": {
    "tags": []
   },
   "source": [
    "### ensemble"
   ]
  },
  {
   "cell_type": "code",
   "execution_count": 9,
   "metadata": {},
   "outputs": [
    {
     "name": "stdout",
     "output_type": "stream",
     "text": [
      "[Fold 0]\n",
      "X_train shape = (752, 1340) float32 \t y_train shape = (752,) float32\n",
      "X_valid shape = (188, 1340) float32 \t y_valid shape = (188,) float32\n",
      "model output shape = (188, 2)\n",
      "              precision    recall  f1-score   support\n",
      "\n",
      "         0.0       0.90      0.86      0.88       125\n",
      "         1.0       0.74      0.81      0.77        63\n",
      "\n",
      "    accuracy                           0.84       188\n",
      "   macro avg       0.82      0.83      0.82       188\n",
      "weighted avg       0.85      0.84      0.84       188\n",
      "\n",
      "[Fold 1]\n",
      "X_train shape = (752, 1340) float32 \t y_train shape = (752,) float32\n",
      "X_valid shape = (188, 1340) float32 \t y_valid shape = (188,) float32\n",
      "model output shape = (188, 2)\n",
      "              precision    recall  f1-score   support\n",
      "\n",
      "         0.0       0.87      0.94      0.90       125\n",
      "         1.0       0.85      0.71      0.78        63\n",
      "\n",
      "    accuracy                           0.86       188\n",
      "   macro avg       0.86      0.83      0.84       188\n",
      "weighted avg       0.86      0.86      0.86       188\n",
      "\n",
      "[Fold 2]\n",
      "X_train shape = (752, 1340) float32 \t y_train shape = (752,) float32\n",
      "X_valid shape = (188, 1340) float32 \t y_valid shape = (188,) float32\n",
      "model output shape = (188, 2)\n",
      "              precision    recall  f1-score   support\n",
      "\n",
      "         0.0       0.89      0.89      0.89       125\n",
      "         1.0       0.78      0.78      0.78        63\n",
      "\n",
      "    accuracy                           0.85       188\n",
      "   macro avg       0.83      0.83      0.83       188\n",
      "weighted avg       0.85      0.85      0.85       188\n",
      "\n",
      "[Fold 3]\n",
      "X_train shape = (752, 1340) float32 \t y_train shape = (752,) float32\n",
      "X_valid shape = (188, 1340) float32 \t y_valid shape = (188,) float32\n",
      "model output shape = (188, 2)\n",
      "              precision    recall  f1-score   support\n",
      "\n",
      "         0.0       0.88      0.85      0.86       125\n",
      "         1.0       0.72      0.76      0.74        63\n",
      "\n",
      "    accuracy                           0.82       188\n",
      "   macro avg       0.80      0.80      0.80       188\n",
      "weighted avg       0.82      0.82      0.82       188\n",
      "\n",
      "[Fold 4]\n",
      "X_train shape = (752, 1340) float32 \t y_train shape = (752,) float32\n",
      "X_valid shape = (188, 1340) float32 \t y_valid shape = (188,) float32\n",
      "model output shape = (188, 2)\n",
      "              precision    recall  f1-score   support\n",
      "\n",
      "         0.0       0.88      0.89      0.88       124\n",
      "         1.0       0.78      0.77      0.77        64\n",
      "\n",
      "    accuracy                           0.85       188\n",
      "   macro avg       0.83      0.83      0.83       188\n",
      "weighted avg       0.85      0.85      0.85       188\n",
      "\n"
     ]
    },
    {
     "data": {
      "text/plain": [
       "\"\\n# 使用5折交叉驗證評估VotingClassifier\\nscores = cross_val_score(voting_classifier, X, y, cv=5)\\nprint(f'Cross-Validation Scores: {scores}')\\nprint(f'Mean Accuracy: {scores.mean():.2f}')\\n\""
      ]
     },
     "execution_count": 9,
     "metadata": {},
     "output_type": "execute_result"
    }
   ],
   "source": [
    "from sklearn.ensemble import VotingClassifier\n",
    "from sklearn.neighbors import KNeighborsClassifier\n",
    "from sklearn.svm import SVC\n",
    "\n",
    "models_list = []  # total 5 models\n",
    "y_true_list = []\n",
    "y_prob_list = []\n",
    "\n",
    "# train with 5-fold\n",
    "for i, (train_index, valid_index) in enumerate(skf.split(X, y)):\n",
    "    print(f\"[Fold {i}]\")\n",
    "    X_train = X[train_index].astype('float32')\n",
    "    y_train = y[train_index].astype('float32')\n",
    "    X_valid = X[valid_index].astype('float32')\n",
    "    y_valid = y[valid_index].astype('float32')\n",
    "    print(\"X_train shape =\", X_train.shape, X_train.dtype, \"\\t y_train shape =\", y_train.shape, y_train.dtype)\n",
    "    print(\"X_valid shape =\", X_valid.shape, X_valid.dtype, \"\\t y_valid shape =\", y_valid.shape, y_valid.dtype)\n",
    "    # 創建KNN分類器\n",
    "    knn_classifier = KNeighborsClassifier(n_neighbors=7)\n",
    "    # 創建SVC分類器\n",
    "    svc_classifier = SVC(C=1.0, kernel='rbf', probability=True)\n",
    "    # 創建VotingClassifier，結合KNN和SVC\n",
    "    voting_classifier = VotingClassifier(estimators=[\n",
    "        ('knn', knn_classifier),\n",
    "        ('svc', svc_classifier)\n",
    "    ], voting='soft')  # 使用'soft'投票以支持SVC的機率預測\n",
    "    # 訓練VotingClassifier\n",
    "    voting_classifier.fit(X_train, y_train)\n",
    "    # predict probability\n",
    "    y_true = y_valid\n",
    "    y_prob = voting_classifier.predict_proba(X_valid)  # pred:[class0, class1]\n",
    "    print(\"model output shape =\", y_prob.shape)\n",
    "    y_prob = y_prob[:, 1]  # use class1 as single output\n",
    "    # append to list\n",
    "    models_list.append(voting_classifier)\n",
    "    y_true_list.append(y_true)\n",
    "    y_prob_list.append(y_prob)\n",
    "    # classification report from single model (with threshold 0.5)\n",
    "    print(classification_report(y_true, y_prob > 0.5))\n",
    "    # break\n",
    "\"\"\"\n",
    "# 使用5折交叉驗證評估VotingClassifier\n",
    "scores = cross_val_score(voting_classifier, X, y, cv=5)\n",
    "print(f'Cross-Validation Scores: {scores}')\n",
    "print(f'Mean Accuracy: {scores.mean():.2f}')\n",
    "\"\"\""
   ]
  },
  {
   "cell_type": "markdown",
   "metadata": {
    "id": "gprnuD1kDJe2"
   },
   "source": [
    "## ROC (receiver operating characteristic curve)\n",
    "https://scikit-learn.org/stable/auto_examples/model_selection/plot_roc_crossval.html"
   ]
  },
  {
   "cell_type": "code",
   "execution_count": 10,
   "metadata": {
    "id": "fUu3VF4t8whf",
    "tags": []
   },
   "outputs": [
    {
     "name": "stdout",
     "output_type": "stream",
     "text": [
      "All y_true_arr shape = (940,) [0. 0. 0. 0. 0.]\n",
      "All y_prob_arr shape = (940,) [0.09822749 0.08139104 0.07510867 0.56191445 0.27366722]\n"
     ]
    }
   ],
   "source": [
    "# all valid data\n",
    "y_true_arr = np.concatenate(y_true_list)\n",
    "y_prob_arr = np.concatenate(y_prob_list)\n",
    "print(\"All y_true_arr shape =\", y_true_arr.shape, y_true_arr[:5])\n",
    "print(\"All y_prob_arr shape =\", y_prob_arr.shape, y_prob_arr[:5])"
   ]
  },
  {
   "cell_type": "code",
   "execution_count": 11,
   "metadata": {
    "id": "Rz9iVy9k8wer",
    "tags": []
   },
   "outputs": [
    {
     "data": {
      "image/png": "[encoded data removed]",
      "text/plain": [
       "<Figure size 800x800 with 1 Axes>"
      ]
     },
     "metadata": {},
     "output_type": "display_data"
    },
    {
     "name": "stdout",
     "output_type": "stream",
     "text": [
      "AUROC = 0.9121353659526128\n",
      "optimal_threshold (micro) = 0.45248344087577996\n"
     ]
    }
   ],
   "source": [
    "# plot ROC\n",
    "def calculate_roc(y_true, y_prob, CLASSES=[1], micro_avg=True, marco_avg=False, ):\n",
    "\n",
    "    # 分別算出每一類別的 FPR(假陽率) TPR(真陽率) AUC(roc_curve底下的面積)\n",
    "    N_CLASSES = len(CLASSES)\n",
    "    y_true = y_true.reshape((-1, N_CLASSES))\n",
    "    y_prob = y_prob.reshape((-1, N_CLASSES))\n",
    "    fpr = dict()\n",
    "    tpr = dict()\n",
    "    roc_auc = dict()\n",
    "    thresholds = dict()\n",
    "    lw = 2\n",
    "    for i in range(N_CLASSES):\n",
    "        fpr[i], tpr[i], _ = roc_curve(y_true[:, i], y_prob[:, i])  # <--\n",
    "        roc_auc[i] = auc(fpr[i], tpr[i])\n",
    "\n",
    "    if micro_avg == True:\n",
    "        # 計算 微觀平均曲線\n",
    "        # Compute micro-average ROC curve and ROC area\n",
    "        fpr[\"micro\"], tpr[\"micro\"], thresholds[\"micro\"] = roc_curve(y_true.ravel(), y_prob.ravel())  # <--\n",
    "        roc_auc[\"micro\"] = auc(fpr[\"micro\"], tpr[\"micro\"])\n",
    "\n",
    "    if marco_avg == True:\n",
    "        # 計算 宏觀平均曲線\n",
    "        # Compute macro-average ROC curve and ROC area\n",
    "\n",
    "        # First aggregate all false positive rates\n",
    "        all_fpr = np.unique(np.concatenate([fpr[i] for i in range(N_CLASSES)]))\n",
    "\n",
    "        # Then interpolate all ROC curves at this points\n",
    "        mean_tpr = np.zeros_like(all_fpr)\n",
    "        for i in range(N_CLASSES):\n",
    "            mean_tpr += interp(all_fpr, fpr[i], tpr[i])\n",
    "\n",
    "        # Finally average it and compute AUC\n",
    "        mean_tpr /= N_CLASSES\n",
    "\n",
    "        fpr[\"macro\"] = all_fpr\n",
    "        tpr[\"macro\"] = mean_tpr\n",
    "        roc_auc[\"macro\"] = auc(fpr[\"macro\"], tpr[\"macro\"])\n",
    "\n",
    "    #### 畫出所有 ROC 曲線 ####\n",
    "    fig = plt.figure(figsize=(8,8))\n",
    "    ax = fig.add_subplot(111)\n",
    "\n",
    "    if micro_avg == True:\n",
    "        plt.plot(fpr[\"micro\"], tpr[\"micro\"],\n",
    "                label='micro-average ROC curve (area = {0:0.4f})'\n",
    "                    ''.format(roc_auc[\"micro\"]),\n",
    "                color='deeppink', linestyle=':', linewidth=4)\n",
    "\n",
    "    if marco_avg == True:\n",
    "        plt.plot(fpr[\"macro\"], tpr[\"macro\"],\n",
    "                label='macro-average ROC curve (area = {0:0.4f})'\n",
    "                    ''.format(roc_auc[\"macro\"]),\n",
    "                color='navy', linestyle=':', linewidth=4)\n",
    "\n",
    "    colors = cycle(['cornflowerblue', 'green', 'darkorange', 'red'])\n",
    "    for i, color in zip(range(N_CLASSES), colors):\n",
    "        ax.plot(fpr[i], tpr[i], color=color, lw=lw,\n",
    "                label='ROC curve: {0}\\n(area = {1:0.4f})'\n",
    "                ''.format(CLASSES[i], roc_auc[i]))\n",
    "\n",
    "    ax.plot([0, 1], [0, 1], 'k--', lw=lw)\n",
    "    ax.set(xlim=(0.0, 1.0), ylim=(0.0, 1.0))\n",
    "    ax.axis('equal')\n",
    "    ax.set_xlabel('False Positive Rate (1-specificity)')\n",
    "    ax.set_ylabel('True Positive Rate (sensitivity)')\n",
    "    ax.set_title('Some extension of Receiver operating characteristic to multi-class')\n",
    "    ax.legend(loc=\"lower right\")\n",
    "    plt.show()\n",
    "\n",
    "    # 平衡點 (micro average)\n",
    "    optimal_idx = np.argmax(tpr[\"micro\"] - fpr[\"micro\"])\n",
    "    optimal_threshold = thresholds[\"micro\"][optimal_idx + 1]\n",
    "    return roc_auc, optimal_threshold\n",
    "\n",
    "# function test:\n",
    "roc_auc, optimal_threshold = calculate_roc(y_true_arr, y_prob_arr)\n",
    "print(\"AUROC =\", roc_auc['micro'])\n",
    "print(\"optimal_threshold (micro) =\", optimal_threshold)"
   ]
  },
  {
   "cell_type": "markdown",
   "metadata": {
    "id": "AmhurzpZFXLT"
   },
   "source": [
    "## classification report"
   ]
  },
  {
   "cell_type": "code",
   "execution_count": 12,
   "metadata": {
    "id": "O_8_OleRFPKZ",
    "tags": []
   },
   "outputs": [
    {
     "name": "stdout",
     "output_type": "stream",
     "text": [
      "              precision    recall  f1-score   support\n",
      "\n",
      "       Noact     0.9049    0.8542    0.8788       624\n",
      "         Act     0.7407    0.8228    0.7796       316\n",
      "\n",
      "    accuracy                         0.8436       940\n",
      "   macro avg     0.8228    0.8385    0.8292       940\n",
      "weighted avg     0.8497    0.8436    0.8455       940\n",
      "\n"
     ]
    }
   ],
   "source": [
    "# classification report\n",
    "print(classification_report(y_true_arr,\n",
    "                            y_prob_arr > optimal_threshold,\n",
    "                            target_names=['Noact', 'Act'], digits=4))"
   ]
  },
  {
   "cell_type": "markdown",
   "metadata": {
    "id": "qyKLLa9uGcFZ"
   },
   "source": [
    "## Save models"
   ]
  },
  {
   "cell_type": "code",
   "execution_count": 13,
   "metadata": {
    "id": "C66uuhUbFue5",
    "tags": []
   },
   "outputs": [
    {
     "name": "stdout",
     "output_type": "stream",
     "text": [
      "models_list is saved to: SVM_models.joblib\n"
     ]
    }
   ],
   "source": [
    "# save any python object to joblib file\n",
    "out_file = \"SVM_models.joblib\"\n",
    "with open(out_file, 'wb') as f:\n",
    "    pickle.dump(models_list, f)\n",
    "print(\"models_list is saved to:\", out_file)"
   ]
  },
  {
   "cell_type": "code",
   "execution_count": 14,
   "metadata": {
    "id": "VBJhi36TG6bH",
    "tags": []
   },
   "outputs": [
    {
     "name": "stdout",
     "output_type": "stream",
     "text": [
      "models_list is restored from: SVM_models.joblib\n"
     ]
    }
   ],
   "source": [
    "# read python object from joblib file\n",
    "file_name = \"SVM_models.joblib\"\n",
    "with open(file_name, 'rb') as f:\n",
    "    models_list = pickle.load(f)\n",
    "print(\"models_list is restored from:\", file_name)"
   ]
  },
  {
   "cell_type": "markdown",
   "metadata": {
    "id": "k-gCYeLoHY3I"
   },
   "source": [
    "# 3 Test with new data"
   ]
  },
  {
   "cell_type": "code",
   "execution_count": 15,
   "metadata": {
    "id": "6qwwEDc-HllC",
    "tags": []
   },
   "outputs": [
    {
     "data": {
      "text/html": [
       "<div>\n",
       "<style scoped>\n",
       "    .dataframe tbody tr th:only-of-type {\n",
       "        vertical-align: middle;\n",
       "    }\n",
       "\n",
       "    .dataframe tbody tr th {\n",
       "        vertical-align: top;\n",
       "    }\n",
       "\n",
       "    .dataframe thead th {\n",
       "        text-align: right;\n",
       "    }\n",
       "</style>\n",
       "<table border=\"1\" class=\"dataframe\">\n",
       "  <thead>\n",
       "    <tr style=\"text-align: right;\">\n",
       "      <th></th>\n",
       "      <th>ID</th>\n",
       "      <th>name</th>\n",
       "      <th>smiles</th>\n",
       "      <th>nAcid</th>\n",
       "      <th>ALogP</th>\n",
       "      <th>ALogp2</th>\n",
       "      <th>AMR</th>\n",
       "      <th>apol</th>\n",
       "      <th>naAromAtom</th>\n",
       "      <th>nAromBond</th>\n",
       "      <th>...</th>\n",
       "      <th>P1s</th>\n",
       "      <th>P2s</th>\n",
       "      <th>E1s</th>\n",
       "      <th>E2s</th>\n",
       "      <th>E3s</th>\n",
       "      <th>Ts</th>\n",
       "      <th>As</th>\n",
       "      <th>Vs</th>\n",
       "      <th>Ks</th>\n",
       "      <th>Ds</th>\n",
       "    </tr>\n",
       "  </thead>\n",
       "  <tbody>\n",
       "    <tr>\n",
       "      <th>0</th>\n",
       "      <td>T1</td>\n",
       "      <td>dizocilpine</td>\n",
       "      <td>C[C@]12N[C@H](Cc3ccccc31)c1ccccc12</td>\n",
       "      <td>0.0</td>\n",
       "      <td>-0.2538</td>\n",
       "      <td>0.064414</td>\n",
       "      <td>19.5988</td>\n",
       "      <td>39.261895</td>\n",
       "      <td>12.0</td>\n",
       "      <td>12.0</td>\n",
       "      <td>...</td>\n",
       "      <td>0.533350</td>\n",
       "      <td>0.289553</td>\n",
       "      <td>0.463899</td>\n",
       "      <td>0.529089</td>\n",
       "      <td>0.444675</td>\n",
       "      <td>9.568739</td>\n",
       "      <td>27.483491</td>\n",
       "      <td>61.013820</td>\n",
       "      <td>0.300025</td>\n",
       "      <td>1.437663</td>\n",
       "    </tr>\n",
       "    <tr>\n",
       "      <th>1</th>\n",
       "      <td>T2</td>\n",
       "      <td>digoxin</td>\n",
       "      <td>C[C@H]1O[C@@H](O[C@H]2[C@@H](O)C[C@H](O[C@H]3[...</td>\n",
       "      <td>0.0</td>\n",
       "      <td>NaN</td>\n",
       "      <td>13.529155</td>\n",
       "      <td>184.4640</td>\n",
       "      <td>126.062752</td>\n",
       "      <td>0.0</td>\n",
       "      <td>0.0</td>\n",
       "      <td>...</td>\n",
       "      <td>0.816047</td>\n",
       "      <td>0.144817</td>\n",
       "      <td>0.613127</td>\n",
       "      <td>0.549468</td>\n",
       "      <td>0.472166</td>\n",
       "      <td>57.561004</td>\n",
       "      <td>516.146782</td>\n",
       "      <td>1455.758251</td>\n",
       "      <td>0.724071</td>\n",
       "      <td>1.634761</td>\n",
       "    </tr>\n",
       "    <tr>\n",
       "      <th>2</th>\n",
       "      <td>T3</td>\n",
       "      <td>schembl18285121</td>\n",
       "      <td>C=CCc1cccc(/C=N\\NC(=O)CN2CCN(Cc3ccc(S(N)(=O)=O...</td>\n",
       "      <td>0.0</td>\n",
       "      <td>-1.1545</td>\n",
       "      <td>1.332870</td>\n",
       "      <td>77.5195</td>\n",
       "      <td>71.424997</td>\n",
       "      <td>12.0</td>\n",
       "      <td>12.0</td>\n",
       "      <td>...</td>\n",
       "      <td>NaN</td>\n",
       "      <td>NaN</td>\n",
       "      <td>NaN</td>\n",
       "      <td>NaN</td>\n",
       "      <td>NaN</td>\n",
       "      <td>NaN</td>\n",
       "      <td>NaN</td>\n",
       "      <td>NaN</td>\n",
       "      <td>NaN</td>\n",
       "      <td>NaN</td>\n",
       "    </tr>\n",
       "    <tr>\n",
       "      <th>3</th>\n",
       "      <td>T4</td>\n",
       "      <td>1-nonene</td>\n",
       "      <td>C=CCCCCCCC</td>\n",
       "      <td>0.0</td>\n",
       "      <td>-0.4256</td>\n",
       "      <td>0.181135</td>\n",
       "      <td>35.0557</td>\n",
       "      <td>27.842274</td>\n",
       "      <td>NaN</td>\n",
       "      <td>0.0</td>\n",
       "      <td>...</td>\n",
       "      <td>0.903078</td>\n",
       "      <td>0.063421</td>\n",
       "      <td>0.530797</td>\n",
       "      <td>0.593252</td>\n",
       "      <td>0.499075</td>\n",
       "      <td>NaN</td>\n",
       "      <td>14.149477</td>\n",
       "      <td>30.516671</td>\n",
       "      <td>0.854617</td>\n",
       "      <td>1.623124</td>\n",
       "    </tr>\n",
       "    <tr>\n",
       "      <th>4</th>\n",
       "      <td>T5</td>\n",
       "      <td>1-decene</td>\n",
       "      <td>C=CCCCCCCCC</td>\n",
       "      <td>0.0</td>\n",
       "      <td>-0.7136</td>\n",
       "      <td>0.509225</td>\n",
       "      <td>37.9673</td>\n",
       "      <td>30.935860</td>\n",
       "      <td>0.0</td>\n",
       "      <td>0.0</td>\n",
       "      <td>...</td>\n",
       "      <td>0.918048</td>\n",
       "      <td>0.053185</td>\n",
       "      <td>0.534344</td>\n",
       "      <td>0.606024</td>\n",
       "      <td>0.513754</td>\n",
       "      <td>15.050920</td>\n",
       "      <td>17.389730</td>\n",
       "      <td>37.229557</td>\n",
       "      <td>0.877072</td>\n",
       "      <td>1.654122</td>\n",
       "    </tr>\n",
       "    <tr>\n",
       "      <th>...</th>\n",
       "      <td>...</td>\n",
       "      <td>...</td>\n",
       "      <td>...</td>\n",
       "      <td>...</td>\n",
       "      <td>...</td>\n",
       "      <td>...</td>\n",
       "      <td>...</td>\n",
       "      <td>...</td>\n",
       "      <td>...</td>\n",
       "      <td>...</td>\n",
       "      <td>...</td>\n",
       "      <td>...</td>\n",
       "      <td>...</td>\n",
       "      <td>...</td>\n",
       "      <td>...</td>\n",
       "      <td>...</td>\n",
       "      <td>...</td>\n",
       "      <td>...</td>\n",
       "      <td>...</td>\n",
       "      <td>...</td>\n",
       "      <td>...</td>\n",
       "    </tr>\n",
       "    <tr>\n",
       "      <th>216</th>\n",
       "      <td>T217</td>\n",
       "      <td>chembl244206</td>\n",
       "      <td>Oc1ccc2c(Oc3ccc(OCCN4CCCCC4)cc3)c(-c3ccc(F)c(F...</td>\n",
       "      <td>0.0</td>\n",
       "      <td>-0.6135</td>\n",
       "      <td>0.376382</td>\n",
       "      <td>NaN</td>\n",
       "      <td>73.663411</td>\n",
       "      <td>22.0</td>\n",
       "      <td>24.0</td>\n",
       "      <td>...</td>\n",
       "      <td>NaN</td>\n",
       "      <td>NaN</td>\n",
       "      <td>NaN</td>\n",
       "      <td>NaN</td>\n",
       "      <td>NaN</td>\n",
       "      <td>NaN</td>\n",
       "      <td>NaN</td>\n",
       "      <td>NaN</td>\n",
       "      <td>NaN</td>\n",
       "      <td>NaN</td>\n",
       "    </tr>\n",
       "    <tr>\n",
       "      <th>217</th>\n",
       "      <td>T218</td>\n",
       "      <td>chembl244205</td>\n",
       "      <td>Oc1ccc2c(Oc3ccc(OCCN4CCCCC4)cc3)c(-c3ccc(F)cc3...</td>\n",
       "      <td>0.0</td>\n",
       "      <td>-1.0932</td>\n",
       "      <td>1.195086</td>\n",
       "      <td>37.1569</td>\n",
       "      <td>73.773204</td>\n",
       "      <td>22.0</td>\n",
       "      <td>24.0</td>\n",
       "      <td>...</td>\n",
       "      <td>0.842700</td>\n",
       "      <td>0.102509</td>\n",
       "      <td>0.513570</td>\n",
       "      <td>0.441618</td>\n",
       "      <td>0.402149</td>\n",
       "      <td>29.565075</td>\n",
       "      <td>120.776345</td>\n",
       "      <td>272.656944</td>\n",
       "      <td>0.764050</td>\n",
       "      <td>1.357336</td>\n",
       "    </tr>\n",
       "    <tr>\n",
       "      <th>218</th>\n",
       "      <td>T219</td>\n",
       "      <td>mannitol (d-mannitol)</td>\n",
       "      <td>OCC(O)C(O)C(O)C(O)CO</td>\n",
       "      <td>0.0</td>\n",
       "      <td>-2.9402</td>\n",
       "      <td>8.644776</td>\n",
       "      <td>38.4036</td>\n",
       "      <td>24.707102</td>\n",
       "      <td>0.0</td>\n",
       "      <td>0.0</td>\n",
       "      <td>...</td>\n",
       "      <td>0.775604</td>\n",
       "      <td>0.160624</td>\n",
       "      <td>0.549165</td>\n",
       "      <td>0.469158</td>\n",
       "      <td>0.280565</td>\n",
       "      <td>8.040570</td>\n",
       "      <td>11.914231</td>\n",
       "      <td>24.084743</td>\n",
       "      <td>0.663405</td>\n",
       "      <td>1.298889</td>\n",
       "    </tr>\n",
       "    <tr>\n",
       "      <th>219</th>\n",
       "      <td>T220</td>\n",
       "      <td>α-hydroxyalprazolam (alpha-hydroxyalprazolam)</td>\n",
       "      <td>OCc1nnc2n1-c1ccc(Cl)cc1C(c1ccccc1)=NC2</td>\n",
       "      <td>0.0</td>\n",
       "      <td>-0.0094</td>\n",
       "      <td>0.000088</td>\n",
       "      <td>26.9189</td>\n",
       "      <td>45.970309</td>\n",
       "      <td>17.0</td>\n",
       "      <td>18.0</td>\n",
       "      <td>...</td>\n",
       "      <td>NaN</td>\n",
       "      <td>0.299342</td>\n",
       "      <td>0.508708</td>\n",
       "      <td>0.397751</td>\n",
       "      <td>0.334246</td>\n",
       "      <td>12.909064</td>\n",
       "      <td>42.257827</td>\n",
       "      <td>83.400900</td>\n",
       "      <td>0.446791</td>\n",
       "      <td>1.240706</td>\n",
       "    </tr>\n",
       "    <tr>\n",
       "      <th>220</th>\n",
       "      <td>T221</td>\n",
       "      <td>fluphenazine</td>\n",
       "      <td>OCCN1CCN(CCCN2c3ccccc3Sc3ccc(C(F)(F)F)cc32)CC1</td>\n",
       "      <td>0.0</td>\n",
       "      <td>1.0728</td>\n",
       "      <td>1.150900</td>\n",
       "      <td>66.0959</td>\n",
       "      <td>64.729618</td>\n",
       "      <td>12.0</td>\n",
       "      <td>12.0</td>\n",
       "      <td>...</td>\n",
       "      <td>NaN</td>\n",
       "      <td>NaN</td>\n",
       "      <td>NaN</td>\n",
       "      <td>NaN</td>\n",
       "      <td>NaN</td>\n",
       "      <td>NaN</td>\n",
       "      <td>NaN</td>\n",
       "      <td>NaN</td>\n",
       "      <td>NaN</td>\n",
       "      <td>NaN</td>\n",
       "    </tr>\n",
       "  </tbody>\n",
       "</table>\n",
       "<p>221 rows × 1878 columns</p>\n",
       "</div>"
      ],
      "text/plain": [
       "       ID                                           name  \\\n",
       "0      T1                                    dizocilpine   \n",
       "1      T2                                        digoxin   \n",
       "2      T3                                schembl18285121   \n",
       "3      T4                                       1-nonene   \n",
       "4      T5                                       1-decene   \n",
       "..    ...                                            ...   \n",
       "216  T217                                   chembl244206   \n",
       "217  T218                                   chembl244205   \n",
       "218  T219                          mannitol (d-mannitol)   \n",
       "219  T220  α-hydroxyalprazolam (alpha-hydroxyalprazolam)   \n",
       "220  T221                                   fluphenazine   \n",
       "\n",
       "                                                smiles  nAcid   ALogP  \\\n",
       "0                   C[C@]12N[C@H](Cc3ccccc31)c1ccccc12    0.0 -0.2538   \n",
       "1    C[C@H]1O[C@@H](O[C@H]2[C@@H](O)C[C@H](O[C@H]3[...    0.0     NaN   \n",
       "2    C=CCc1cccc(/C=N\\NC(=O)CN2CCN(Cc3ccc(S(N)(=O)=O...    0.0 -1.1545   \n",
       "3                                           C=CCCCCCCC    0.0 -0.4256   \n",
       "4                                          C=CCCCCCCCC    0.0 -0.7136   \n",
       "..                                                 ...    ...     ...   \n",
       "216  Oc1ccc2c(Oc3ccc(OCCN4CCCCC4)cc3)c(-c3ccc(F)c(F...    0.0 -0.6135   \n",
       "217  Oc1ccc2c(Oc3ccc(OCCN4CCCCC4)cc3)c(-c3ccc(F)cc3...    0.0 -1.0932   \n",
       "218                               OCC(O)C(O)C(O)C(O)CO    0.0 -2.9402   \n",
       "219             OCc1nnc2n1-c1ccc(Cl)cc1C(c1ccccc1)=NC2    0.0 -0.0094   \n",
       "220     OCCN1CCN(CCCN2c3ccccc3Sc3ccc(C(F)(F)F)cc32)CC1    0.0  1.0728   \n",
       "\n",
       "        ALogp2       AMR        apol  naAromAtom  nAromBond  ...       P1s  \\\n",
       "0     0.064414   19.5988   39.261895        12.0       12.0  ...  0.533350   \n",
       "1    13.529155  184.4640  126.062752         0.0        0.0  ...  0.816047   \n",
       "2     1.332870   77.5195   71.424997        12.0       12.0  ...       NaN   \n",
       "3     0.181135   35.0557   27.842274         NaN        0.0  ...  0.903078   \n",
       "4     0.509225   37.9673   30.935860         0.0        0.0  ...  0.918048   \n",
       "..         ...       ...         ...         ...        ...  ...       ...   \n",
       "216   0.376382       NaN   73.663411        22.0       24.0  ...       NaN   \n",
       "217   1.195086   37.1569   73.773204        22.0       24.0  ...  0.842700   \n",
       "218   8.644776   38.4036   24.707102         0.0        0.0  ...  0.775604   \n",
       "219   0.000088   26.9189   45.970309        17.0       18.0  ...       NaN   \n",
       "220   1.150900   66.0959   64.729618        12.0       12.0  ...       NaN   \n",
       "\n",
       "          P2s       E1s       E2s       E3s         Ts          As  \\\n",
       "0    0.289553  0.463899  0.529089  0.444675   9.568739   27.483491   \n",
       "1    0.144817  0.613127  0.549468  0.472166  57.561004  516.146782   \n",
       "2         NaN       NaN       NaN       NaN        NaN         NaN   \n",
       "3    0.063421  0.530797  0.593252  0.499075        NaN   14.149477   \n",
       "4    0.053185  0.534344  0.606024  0.513754  15.050920   17.389730   \n",
       "..        ...       ...       ...       ...        ...         ...   \n",
       "216       NaN       NaN       NaN       NaN        NaN         NaN   \n",
       "217  0.102509  0.513570  0.441618  0.402149  29.565075  120.776345   \n",
       "218  0.160624  0.549165  0.469158  0.280565   8.040570   11.914231   \n",
       "219  0.299342  0.508708  0.397751  0.334246  12.909064   42.257827   \n",
       "220       NaN       NaN       NaN       NaN        NaN         NaN   \n",
       "\n",
       "              Vs        Ks        Ds  \n",
       "0      61.013820  0.300025  1.437663  \n",
       "1    1455.758251  0.724071  1.634761  \n",
       "2            NaN       NaN       NaN  \n",
       "3      30.516671  0.854617  1.623124  \n",
       "4      37.229557  0.877072  1.654122  \n",
       "..           ...       ...       ...  \n",
       "216          NaN       NaN       NaN  \n",
       "217   272.656944  0.764050  1.357336  \n",
       "218    24.084743  0.663405  1.298889  \n",
       "219    83.400900  0.446791  1.240706  \n",
       "220          NaN       NaN       NaN  \n",
       "\n",
       "[221 rows x 1878 columns]"
      ]
     },
     "execution_count": 15,
     "metadata": {},
     "output_type": "execute_result"
    }
   ],
   "source": [
    "test_csv_file = r\"C:\\Users\\charl\\Desktop\\ASMA\\test_dataset_drop05.csv\"  # <-- test_data.csv path\n",
    "df1 = pd.read_csv(test_csv_file).loc[:, 'ID':]\n",
    "df1"
   ]
  },
  {
   "cell_type": "markdown",
   "metadata": {
    "id": "_XJmIdM6Hj5Q"
   },
   "source": [
    "## [TODO] all processes are the same as dev_data"
   ]
  },
  {
   "cell_type": "code",
   "execution_count": 16,
   "metadata": {
    "id": "gGKGAZsQHj5R",
    "tags": []
   },
   "outputs": [],
   "source": [
    "# feature engineering\n",
    "# feature impute\n",
    "df1.loc[:, 'nAcid':] = df1.loc[:, 'nAcid':].replace([np.inf, -np.inf], np.nan)\n",
    "df1.loc[:, 'nAcid':] = df1.loc[:, 'nAcid':].fillna(0)  # just simple fill all NaN with 0"
   ]
  },
  {
   "cell_type": "markdown",
   "metadata": {
    "id": "qFoxZ1VBLBnV"
   },
   "source": [
    "## Define model feature inputs(X) and target output(y)"
   ]
  },
  {
   "cell_type": "code",
   "execution_count": 17,
   "metadata": {
    "id": "flXF64L1JvNl",
    "tags": []
   },
   "outputs": [
    {
     "name": "stdout",
     "output_type": "stream",
     "text": [
      "X_test_raw shape = (221, 1340) float64\n"
     ]
    }
   ],
   "source": [
    "# feature(X)\n",
    "X_test_raw = df1.loc[:, use_cols].values\n",
    "print(\"X_test_raw shape =\", X_test_raw.shape, X_test_raw.dtype)"
   ]
  },
  {
   "cell_type": "code",
   "execution_count": 18,
   "metadata": {
    "id": "_ssr7DVwLU8K",
    "tags": []
   },
   "outputs": [
    {
     "name": "stdout",
     "output_type": "stream",
     "text": [
      "Normalized X_test = [[5.49181374e-01 6.45141746e-01 4.06387154e-02 ... 7.00000001e-09\n",
      "  4.00000400e-06 7.50750000e-04]\n",
      " [5.90435229e-01 6.79219850e-01 4.14775668e-02 ... 2.80000000e-08\n",
      "  1.40000140e-05 1.00100000e-03]\n",
      " [5.89135130e-01 6.76365568e-01 5.31119916e-02 ... 2.10000000e-08\n",
      "  1.10000110e-05 9.10000000e-04]\n",
      " ...\n",
      " [6.40270776e-01 7.06696562e-01 4.79515160e-02 ... 7.00000001e-09\n",
      "  4.00000400e-06 7.50750000e-04]\n",
      " [5.93824150e-01 6.58589828e-01 6.82872439e-02 ... 1.00000000e-08\n",
      "  5.00000500e-06 1.00100000e-03]\n",
      " [5.97853957e-01 6.93707336e-01 5.67308123e-02 ... 1.50000000e-08\n",
      "  8.00000800e-06 8.75875000e-04]]\n"
     ]
    }
   ],
   "source": [
    "# feature normalization\n",
    "# transform X_raw to normalized (X)\n",
    "X_test = transformer.transform(X_test_raw)\n",
    "print(\"Normalized X_test =\", X_test)"
   ]
  },
  {
   "cell_type": "markdown",
   "metadata": {
    "id": "dbiZpsCKLmkO"
   },
   "source": [
    "## Model prediction"
   ]
  },
  {
   "cell_type": "code",
   "execution_count": 19,
   "metadata": {
    "id": "Kbld_DvCLpbp",
    "tags": []
   },
   "outputs": [
    {
     "name": "stdout",
     "output_type": "stream",
     "text": [
      "[Model 1] output shape = (221, 2)\n",
      "[Model 2] output shape = (221, 2)\n",
      "[Model 3] output shape = (221, 2)\n",
      "[Model 4] output shape = (221, 2)\n",
      "[Model 5] output shape = (221, 2)\n",
      "\n",
      " Number of predictions: 5\n"
     ]
    }
   ],
   "source": [
    "# get predict proba from all models in model_list\n",
    "predict_list = []\n",
    "for i, model in enumerate(models_list):\n",
    "    y_prob = model.predict_proba(X_test)  # pred:[class0, class1]\n",
    "    print(f\"[Model {i+1}] output shape =\", y_prob.shape)\n",
    "    y_prob = y_prob[:, 1]  # use class1 as single output\n",
    "    predict_list.append(y_prob)\n",
    "    # break\n",
    "print(\"\\n Number of predictions:\", len(predict_list))"
   ]
  },
  {
   "cell_type": "code",
   "execution_count": 20,
   "metadata": {
    "id": "e4Ps3YY69e68",
    "tags": []
   },
   "outputs": [
    {
     "name": "stdout",
     "output_type": "stream",
     "text": [
      "pred_prob shape = (221,)\n"
     ]
    }
   ],
   "source": [
    "pred_prob = np.stack(predict_list).mean(axis=0)\n",
    "print(\"pred_prob shape =\", pred_prob.shape)"
   ]
  },
  {
   "cell_type": "markdown",
   "metadata": {
    "id": "o76B8VRRg5gX"
   },
   "source": [
    "## Save submit.csv"
   ]
  },
  {
   "cell_type": "code",
   "execution_count": 21,
   "metadata": {
    "id": "F43bHjAe8qf7",
    "tags": []
   },
   "outputs": [
    {
     "data": {
      "text/html": [
       "<div>\n",
       "<style scoped>\n",
       "    .dataframe tbody tr th:only-of-type {\n",
       "        vertical-align: middle;\n",
       "    }\n",
       "\n",
       "    .dataframe tbody tr th {\n",
       "        vertical-align: top;\n",
       "    }\n",
       "\n",
       "    .dataframe thead th {\n",
       "        text-align: right;\n",
       "    }\n",
       "</style>\n",
       "<table border=\"1\" class=\"dataframe\">\n",
       "  <thead>\n",
       "    <tr style=\"text-align: right;\">\n",
       "      <th></th>\n",
       "      <th>ID</th>\n",
       "      <th>Pred_prob</th>\n",
       "    </tr>\n",
       "  </thead>\n",
       "  <tbody>\n",
       "    <tr>\n",
       "      <th>0</th>\n",
       "      <td>T1</td>\n",
       "      <td>0.830365</td>\n",
       "    </tr>\n",
       "    <tr>\n",
       "      <th>1</th>\n",
       "      <td>T2</td>\n",
       "      <td>0.005609</td>\n",
       "    </tr>\n",
       "    <tr>\n",
       "      <th>2</th>\n",
       "      <td>T3</td>\n",
       "      <td>0.106402</td>\n",
       "    </tr>\n",
       "    <tr>\n",
       "      <th>3</th>\n",
       "      <td>T4</td>\n",
       "      <td>0.547582</td>\n",
       "    </tr>\n",
       "    <tr>\n",
       "      <th>4</th>\n",
       "      <td>T5</td>\n",
       "      <td>0.571643</td>\n",
       "    </tr>\n",
       "    <tr>\n",
       "      <th>...</th>\n",
       "      <td>...</td>\n",
       "      <td>...</td>\n",
       "    </tr>\n",
       "    <tr>\n",
       "      <th>216</th>\n",
       "      <td>T217</td>\n",
       "      <td>0.512368</td>\n",
       "    </tr>\n",
       "    <tr>\n",
       "      <th>217</th>\n",
       "      <td>T218</td>\n",
       "      <td>0.514137</td>\n",
       "    </tr>\n",
       "    <tr>\n",
       "      <th>218</th>\n",
       "      <td>T219</td>\n",
       "      <td>0.031996</td>\n",
       "    </tr>\n",
       "    <tr>\n",
       "      <th>219</th>\n",
       "      <td>T220</td>\n",
       "      <td>0.873265</td>\n",
       "    </tr>\n",
       "    <tr>\n",
       "      <th>220</th>\n",
       "      <td>T221</td>\n",
       "      <td>0.922746</td>\n",
       "    </tr>\n",
       "  </tbody>\n",
       "</table>\n",
       "<p>221 rows × 2 columns</p>\n",
       "</div>"
      ],
      "text/plain": [
       "       ID  Pred_prob\n",
       "0      T1   0.830365\n",
       "1      T2   0.005609\n",
       "2      T3   0.106402\n",
       "3      T4   0.547582\n",
       "4      T5   0.571643\n",
       "..    ...        ...\n",
       "216  T217   0.512368\n",
       "217  T218   0.514137\n",
       "218  T219   0.031996\n",
       "219  T220   0.873265\n",
       "220  T221   0.922746\n",
       "\n",
       "[221 rows x 2 columns]"
      ]
     },
     "execution_count": 21,
     "metadata": {},
     "output_type": "execute_result"
    }
   ],
   "source": [
    "# df_submit\n",
    "df_submit = pd.DataFrame(columns=['ID', 'Pred_prob'])\n",
    "df_submit['ID'] = df1['ID']\n",
    "df_submit['Pred_prob'] = pred_prob\n",
    "df_submit"
   ]
  },
  {
   "cell_type": "code",
   "execution_count": 22,
   "metadata": {
    "id": "x-VdwU6gg430",
    "tags": []
   },
   "outputs": [],
   "source": [
    "# save submit.csv\n",
    "df_submit.to_csv(\"submit.csv\", index=False)"
   ]
  },
  {
   "cell_type": "code",
   "execution_count": null,
   "metadata": {
    "id": "sBujC_-nPbt8"
   },
   "outputs": [],
   "source": []
  }
 ],
 "metadata": {
  "colab": {
   "provenance": [],
   "toc_visible": true
  },
  "kernelspec": {
   "display_name": "Python 3 (ipykernel)",
   "language": "python",
   "name": "python3"
  },
  "language_info": {
   "codemirror_mode": {
    "name": "ipython",
    "version": 3
   },
   "file_extension": ".py",
   "mimetype": "text/x-python",
   "name": "python",
   "nbconvert_exporter": "python",
   "pygments_lexer": "ipython3",
   "version": "3.11.5"
  }
 },
 "nbformat": 4,
 "nbformat_minor": 4
}
