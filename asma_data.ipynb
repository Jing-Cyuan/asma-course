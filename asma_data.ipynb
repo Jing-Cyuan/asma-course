{
 "cells": [
  {
   "cell_type": "code",
   "execution_count": 1,
   "id": "8bbcc345-ecba-45e5-992b-9108c8b6fff1",
   "metadata": {
    "tags": []
   },
   "outputs": [
    {
     "name": "stdout",
     "output_type": "stream",
     "text": [
      "Requirement already satisfied: rdkit in c:\\users\\charl\\anaconda3\\envs\\asma\\lib\\site-packages (2023.3.3)\n",
      "Requirement already satisfied: padelpy in c:\\users\\charl\\anaconda3\\envs\\asma\\lib\\site-packages (0.1.15)\n",
      "Requirement already satisfied: numpy in c:\\users\\charl\\anaconda3\\envs\\asma\\lib\\site-packages (from rdkit) (1.24.3)\n",
      "Requirement already satisfied: Pillow in c:\\users\\charl\\anaconda3\\envs\\asma\\lib\\site-packages (from rdkit) (9.4.0)\n"
     ]
    }
   ],
   "source": [
    "!pip install rdkit padelpy"
   ]
  },
  {
   "cell_type": "code",
   "execution_count": null,
   "id": "b887e70b-270b-4377-9287-f0a801135d01",
   "metadata": {
    "tags": []
   },
   "outputs": [],
   "source": [
    "import pandas as pd\n",
    "from rdkit import Chem\n",
    "from rdkit.Chem import Descriptors\n",
    "from rdkit.Chem import PandasTools\n",
    "from padelpy import from_smiles\n",
    "\n",
    "# 讀取Excel文件\n",
    "file_path = r'C:\\Users\\charl\\Desktop\\ASMA\\CNSData(940).xlsx'  # 您的Excel文件路徑\n",
    "df = pd.read_excel(file_path)\n",
    "\n",
    "sm_str=[]\n",
    "# print(df['smiles'])\n",
    "for s in df['smiles']:\n",
    "    # print(from_smiles(str(s)))\n",
    "    sm_str.append(str(s))\n",
    "from_smiles(sm_str, output_csv='descriptors.csv', timeout = 1000000000)\n",
    "\n",
    "desc = pd.read_csv(r'C:\\Users\\charl\\Desktop\\ASMA\\descriptors.csv')\n",
    "print(desc)\n",
    "\n",
    "'''\n",
    "print(df)\n",
    "\n",
    "\n",
    "# 將所有 940 個 SMILES 全部存到 smiles_list 變數\n",
    "smiles_list = list(df['smiles'])\n",
    "#print(smiles_list)\n",
    "\n",
    "\n",
    "# 測試PaDELPy\n",
    "descriptors = from_smiles(smiles_list)\n",
    "print(descriptors)\n",
    "'''\n",
    "\"\"\"\n",
    "# 為RDKit和PadelPy準備數據結構\n",
    "molecules = []\n",
    "smiles_list = df['smiles'].tolist()\n",
    "print(len(smiles_list))\n",
    "\n",
    "for smiles in smiles_list:\n",
    "    descriptors = smiles\n",
    "    if descriptors is not None:\n",
    "        molecules.append(descriptors)\n",
    "    else:\n",
    "        molecules.append(None)\n",
    "        \n",
    "print(molecules)\n",
    "\"\"\""
   ]
  },
  {
   "cell_type": "code",
   "execution_count": null,
   "id": "0d424c6b-00b1-4df4-b479-a00b0edb2e4a",
   "metadata": {},
   "outputs": [],
   "source": [
    "import pandas as pd\n",
    "from rdkit import Chem\n",
    "from rdkit.Chem import Descriptors\n",
    "from padelpy import from_smiles\n",
    "\n",
    "# 读取Excel文件\n",
    "file_path = r'C:\\Users\\charl\\Desktop\\ASMA\\CNSData(940).xlsx'  # 您的Excel文件路径\n",
    "df = pd.read_excel(file_path)\n",
    "\n",
    "# 为RDKit和PadelPy准备数据结构\n",
    "molecules = []\n",
    "smiles_list = df['Simplified Molecular Input Line Entry System'].tolist()\n",
    "\n",
    "for smiles in smiles_list:\n",
    "    mol = Chem.MolFromSmiles(smiles)\n",
    "    if mol is not None:\n",
    "        molecules.append(mol)\n",
    "    else:\n",
    "        molecules.append(None)\n",
    "\n",
    "# 计算RDKit描述符\n",
    "df['MolecularWeight'] = [Descriptors.MolWt(mol) if mol is not None else None]\n",
    "df['LogP'] = [Descriptors.MolLogP(mol) if mol is not None else None]\n",
    "df['NumHDonors'] = [Descriptors.NumHDonors(mol) if mol is not None else None]\n",
    "df['NumHAcceptors'] = [Descriptors.NumHAcceptors(mol) if mol is not None else None]\n",
    "\n",
    "# 计算PadelPy描述符\n",
    "padel_descs = from_smiles(smiles_list, names=[\"desc_\" + str(i) for i in range(1, 1875)])\n",
    "padel_df = pd.DataFrame(padel_descs)\n",
    "\n",
    "# 合并RDKit和PadelPy描述符\n",
    "result_df = pd.concat([df, padel_df], axis=1)\n",
    "\n",
    "# 将结果保存为Excel文件\n",
    "output_file_path = r'C:\\Users\\charl\\Desktop\\ASMA\\Molecule_Descriptors.xlsx'  # 输出Excel文件路径\n",
    "result_df.to_excel(output_file_path, index=False)\n"
   ]
  }
 ],
 "metadata": {
  "kernelspec": {
   "display_name": "Python 3 (ipykernel)",
   "language": "python",
   "name": "python3"
  },
  "language_info": {
   "codemirror_mode": {
    "name": "ipython",
    "version": 3
   },
   "file_extension": ".py",
   "mimetype": "text/x-python",
   "name": "python",
   "nbconvert_exporter": "python",
   "pygments_lexer": "ipython3",
   "version": "3.11.5"
  }
 },
 "nbformat": 4,
 "nbformat_minor": 5
}
